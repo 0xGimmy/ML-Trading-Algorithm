{
 "cells": [
  {
   "cell_type": "markdown",
   "metadata": {
    "id": "3nza2nNITuMn"
   },
   "source": [
    "# Data Cleaning and Setup"
   ]
  },
  {
   "cell_type": "code",
   "execution_count": 3,
   "metadata": {
    "id": "O_qfYdlkTuMp"
   },
   "outputs": [],
   "source": [
    "import pandas as pd\n",
    "import numpy as np\n",
    "import math\n",
    "import matplotlib.pyplot as plt\n",
    "import seaborn\n",
    "seaborn.set(style='ticks')\n",
    "import warnings\n",
    "warnings.filterwarnings('ignore')\n",
    " \n",
    "# Definfe the stock and ETFs universe\n",
    "ETFs_universe = ['MGC', 'MGK', 'MGV', 'MTUM', 'QQQ', 'SDY', 'SPLV', 'VB', \n",
    "                 'VBK', 'VBR', 'VCR', 'VDC', 'VDE', 'VFH', 'VGT', 'VHT', 'VIG',\n",
    "                 'VIS', 'VNQ', 'VO', 'VOE', 'VOT', 'VOX', 'VPU', 'VTV', 'VUG',\n",
    "                 'VV', 'VYM', 'XBI', 'XLB', 'XLC', 'XLI', 'XLK', 'XLV', 'XME']\n",
    "\n",
    "\n",
    "# Extract historiacl data from IEX\n",
    "from iexfinance.stocks import get_historical_data\n",
    "from iexfinance.stocks import Stock\n",
    "from datetime import datetime\n",
    "from datetime import timedelta\n",
    "import os\n",
    "\n",
    "# Authenticate the IEX with token\n",
    "os.environ['IEX_API_VERSION'] = 'iexcloud-sandbox'\n",
    "os.environ['IEX_TOKEN'] = 'Tpk_xxxxxxxx' # put your own token here\n",
    "\n",
    "# Fetch the data from IEX\n",
    "start_date = datetime.now() - timedelta(days = 365*10)\n",
    "data = []\n",
    "\n",
    "df = pd.DataFrame(columns=['symbol', 'fClose', 'changePercent'])\n",
    "return_table = pd.DataFrame()"
   ]
  },
  {
   "cell_type": "markdown",
   "metadata": {
    "id": "fcKzzPcgTuMq"
   },
   "source": [
    "# Fetch the data"
   ]
  },
  {
   "cell_type": "code",
   "execution_count": 4,
   "metadata": {
    "colab": {
     "base_uri": "https://localhost:8080/",
     "height": 204
    },
    "id": "IV5E97q7TuMq",
    "outputId": "a9de35d9-fdf2-431b-df98-5ee49db71ae2"
   },
   "outputs": [
    {
     "data": {
      "text/html": [
       "<div>\n",
       "<style scoped>\n",
       "    .dataframe tbody tr th:only-of-type {\n",
       "        vertical-align: middle;\n",
       "    }\n",
       "\n",
       "    .dataframe tbody tr th {\n",
       "        vertical-align: top;\n",
       "    }\n",
       "\n",
       "    .dataframe thead th {\n",
       "        text-align: right;\n",
       "    }\n",
       "</style>\n",
       "<table border=\"1\" class=\"dataframe\">\n",
       "  <thead>\n",
       "    <tr style=\"text-align: right;\">\n",
       "      <th></th>\n",
       "      <th>symbol</th>\n",
       "      <th>fClose</th>\n",
       "      <th>changePercent</th>\n",
       "    </tr>\n",
       "  </thead>\n",
       "  <tbody>\n",
       "    <tr>\n",
       "      <th>2011-05-25</th>\n",
       "      <td>MGC</td>\n",
       "      <td>38.1134</td>\n",
       "      <td>0.0032</td>\n",
       "    </tr>\n",
       "    <tr>\n",
       "      <th>2011-05-26</th>\n",
       "      <td>MGC</td>\n",
       "      <td>38.5266</td>\n",
       "      <td>0.0040</td>\n",
       "    </tr>\n",
       "    <tr>\n",
       "      <th>2011-05-27</th>\n",
       "      <td>MGC</td>\n",
       "      <td>37.4111</td>\n",
       "      <td>0.0033</td>\n",
       "    </tr>\n",
       "    <tr>\n",
       "      <th>2011-05-31</th>\n",
       "      <td>MGC</td>\n",
       "      <td>39.3583</td>\n",
       "      <td>0.0111</td>\n",
       "    </tr>\n",
       "    <tr>\n",
       "      <th>2011-06-01</th>\n",
       "      <td>MGC</td>\n",
       "      <td>37.0882</td>\n",
       "      <td>-0.0218</td>\n",
       "    </tr>\n",
       "  </tbody>\n",
       "</table>\n",
       "</div>"
      ],
      "text/plain": [
       "           symbol   fClose  changePercent\n",
       "2011-05-25    MGC  38.1134         0.0032\n",
       "2011-05-26    MGC  38.5266         0.0040\n",
       "2011-05-27    MGC  37.4111         0.0033\n",
       "2011-05-31    MGC  39.3583         0.0111\n",
       "2011-06-01    MGC  37.0882        -0.0218"
      ]
     },
     "execution_count": 4,
     "metadata": {},
     "output_type": "execute_result"
    }
   ],
   "source": [
    "for s in ETFs_universe:\n",
    "    df_extract = get_historical_data(s, start_date).loc[:, ['symbol', 'fClose', 'changePercent']]\n",
    "    return_data = pd.to_numeric(df_extract.changePercent)\n",
    "    return_table[s] = return_data\n",
    "    df = df.append(df_extract)\n",
    "    \n",
    "# Change datatype into numeric\n",
    "df.changePercent = pd.to_numeric(df.changePercent)\n",
    "df.fClose = pd.to_numeric(df.fClose)\n",
    "df.head()"
   ]
  },
  {
   "cell_type": "markdown",
   "metadata": {
    "id": "17cU9twCTuMr"
   },
   "source": [
    "# Ranking Analysis"
   ]
  },
  {
   "cell_type": "code",
   "execution_count": 5,
   "metadata": {
    "colab": {
     "base_uri": "https://localhost:8080/",
     "height": 309
    },
    "id": "2P_ih9QsTuMs",
    "outputId": "49a1f92b-ef9d-48cd-a03a-1688444db9ef"
   },
   "outputs": [
    {
     "data": {
      "text/html": [
       "<div>\n",
       "<style scoped>\n",
       "    .dataframe tbody tr th:only-of-type {\n",
       "        vertical-align: middle;\n",
       "    }\n",
       "\n",
       "    .dataframe tbody tr th {\n",
       "        vertical-align: top;\n",
       "    }\n",
       "\n",
       "    .dataframe thead th {\n",
       "        text-align: right;\n",
       "    }\n",
       "</style>\n",
       "<table border=\"1\" class=\"dataframe\">\n",
       "  <thead>\n",
       "    <tr style=\"text-align: right;\">\n",
       "      <th></th>\n",
       "      <th>MGC</th>\n",
       "      <th>MGK</th>\n",
       "      <th>MGV</th>\n",
       "      <th>MTUM</th>\n",
       "      <th>QQQ</th>\n",
       "      <th>SDY</th>\n",
       "      <th>SPLV</th>\n",
       "      <th>VB</th>\n",
       "      <th>VBK</th>\n",
       "      <th>VBR</th>\n",
       "      <th>...</th>\n",
       "      <th>VUG</th>\n",
       "      <th>VV</th>\n",
       "      <th>VYM</th>\n",
       "      <th>XBI</th>\n",
       "      <th>XLB</th>\n",
       "      <th>XLC</th>\n",
       "      <th>XLI</th>\n",
       "      <th>XLK</th>\n",
       "      <th>XLV</th>\n",
       "      <th>XME</th>\n",
       "    </tr>\n",
       "  </thead>\n",
       "  <tbody>\n",
       "    <tr>\n",
       "      <th>2011-05-25</th>\n",
       "      <td>0.0032</td>\n",
       "      <td>0.0034</td>\n",
       "      <td>0.0030</td>\n",
       "      <td>NaN</td>\n",
       "      <td>0.0039</td>\n",
       "      <td>-0.0007</td>\n",
       "      <td>-0.0020</td>\n",
       "      <td>0.0105</td>\n",
       "      <td>0.0138</td>\n",
       "      <td>0.0081</td>\n",
       "      <td>...</td>\n",
       "      <td>0.0047</td>\n",
       "      <td>0.0033</td>\n",
       "      <td>0.0019</td>\n",
       "      <td>0.0160</td>\n",
       "      <td>0.0146</td>\n",
       "      <td>NaN</td>\n",
       "      <td>0.0087</td>\n",
       "      <td>0.0032</td>\n",
       "      <td>0.0014</td>\n",
       "      <td>0.0190</td>\n",
       "    </tr>\n",
       "    <tr>\n",
       "      <th>2011-05-26</th>\n",
       "      <td>0.0040</td>\n",
       "      <td>0.0049</td>\n",
       "      <td>0.0025</td>\n",
       "      <td>NaN</td>\n",
       "      <td>0.0063</td>\n",
       "      <td>0.0027</td>\n",
       "      <td>-0.0008</td>\n",
       "      <td>0.0123</td>\n",
       "      <td>0.0130</td>\n",
       "      <td>0.0100</td>\n",
       "      <td>...</td>\n",
       "      <td>0.0065</td>\n",
       "      <td>0.0047</td>\n",
       "      <td>0.0025</td>\n",
       "      <td>0.0089</td>\n",
       "      <td>0.0024</td>\n",
       "      <td>NaN</td>\n",
       "      <td>0.0041</td>\n",
       "      <td>0.0066</td>\n",
       "      <td>0.0014</td>\n",
       "      <td>0.0096</td>\n",
       "    </tr>\n",
       "    <tr>\n",
       "      <th>2011-05-27</th>\n",
       "      <td>0.0033</td>\n",
       "      <td>0.0046</td>\n",
       "      <td>0.0046</td>\n",
       "      <td>NaN</td>\n",
       "      <td>0.0050</td>\n",
       "      <td>0.0026</td>\n",
       "      <td>0.0040</td>\n",
       "      <td>0.0060</td>\n",
       "      <td>0.0071</td>\n",
       "      <td>0.0070</td>\n",
       "      <td>...</td>\n",
       "      <td>0.0039</td>\n",
       "      <td>0.0049</td>\n",
       "      <td>0.0025</td>\n",
       "      <td>0.0079</td>\n",
       "      <td>0.0109</td>\n",
       "      <td>NaN</td>\n",
       "      <td>0.0050</td>\n",
       "      <td>0.0050</td>\n",
       "      <td>0.0006</td>\n",
       "      <td>0.0104</td>\n",
       "    </tr>\n",
       "    <tr>\n",
       "      <th>2011-05-31</th>\n",
       "      <td>0.0111</td>\n",
       "      <td>0.0112</td>\n",
       "      <td>0.0106</td>\n",
       "      <td>NaN</td>\n",
       "      <td>0.0164</td>\n",
       "      <td>0.0096</td>\n",
       "      <td>0.0072</td>\n",
       "      <td>0.0130</td>\n",
       "      <td>0.0126</td>\n",
       "      <td>0.0117</td>\n",
       "      <td>...</td>\n",
       "      <td>0.0103</td>\n",
       "      <td>0.0105</td>\n",
       "      <td>0.0096</td>\n",
       "      <td>0.0077</td>\n",
       "      <td>0.0104</td>\n",
       "      <td>NaN</td>\n",
       "      <td>0.0093</td>\n",
       "      <td>0.0141</td>\n",
       "      <td>0.0118</td>\n",
       "      <td>0.0153</td>\n",
       "    </tr>\n",
       "    <tr>\n",
       "      <th>2011-06-01</th>\n",
       "      <td>-0.0218</td>\n",
       "      <td>-0.0219</td>\n",
       "      <td>-0.0226</td>\n",
       "      <td>NaN</td>\n",
       "      <td>-0.0220</td>\n",
       "      <td>-0.0197</td>\n",
       "      <td>-0.0121</td>\n",
       "      <td>-0.0299</td>\n",
       "      <td>-0.0322</td>\n",
       "      <td>-0.0286</td>\n",
       "      <td>...</td>\n",
       "      <td>-0.0220</td>\n",
       "      <td>-0.0227</td>\n",
       "      <td>-0.0170</td>\n",
       "      <td>-0.0258</td>\n",
       "      <td>-0.0323</td>\n",
       "      <td>NaN</td>\n",
       "      <td>-0.0341</td>\n",
       "      <td>-0.0208</td>\n",
       "      <td>-0.0139</td>\n",
       "      <td>-0.0365</td>\n",
       "    </tr>\n",
       "  </tbody>\n",
       "</table>\n",
       "<p>5 rows × 35 columns</p>\n",
       "</div>"
      ],
      "text/plain": [
       "               MGC     MGK     MGV  MTUM     QQQ     SDY    SPLV      VB  \\\n",
       "2011-05-25  0.0032  0.0034  0.0030   NaN  0.0039 -0.0007 -0.0020  0.0105   \n",
       "2011-05-26  0.0040  0.0049  0.0025   NaN  0.0063  0.0027 -0.0008  0.0123   \n",
       "2011-05-27  0.0033  0.0046  0.0046   NaN  0.0050  0.0026  0.0040  0.0060   \n",
       "2011-05-31  0.0111  0.0112  0.0106   NaN  0.0164  0.0096  0.0072  0.0130   \n",
       "2011-06-01 -0.0218 -0.0219 -0.0226   NaN -0.0220 -0.0197 -0.0121 -0.0299   \n",
       "\n",
       "               VBK     VBR  ...     VUG      VV     VYM     XBI     XLB  XLC  \\\n",
       "2011-05-25  0.0138  0.0081  ...  0.0047  0.0033  0.0019  0.0160  0.0146  NaN   \n",
       "2011-05-26  0.0130  0.0100  ...  0.0065  0.0047  0.0025  0.0089  0.0024  NaN   \n",
       "2011-05-27  0.0071  0.0070  ...  0.0039  0.0049  0.0025  0.0079  0.0109  NaN   \n",
       "2011-05-31  0.0126  0.0117  ...  0.0103  0.0105  0.0096  0.0077  0.0104  NaN   \n",
       "2011-06-01 -0.0322 -0.0286  ... -0.0220 -0.0227 -0.0170 -0.0258 -0.0323  NaN   \n",
       "\n",
       "               XLI     XLK     XLV     XME  \n",
       "2011-05-25  0.0087  0.0032  0.0014  0.0190  \n",
       "2011-05-26  0.0041  0.0066  0.0014  0.0096  \n",
       "2011-05-27  0.0050  0.0050  0.0006  0.0104  \n",
       "2011-05-31  0.0093  0.0141  0.0118  0.0153  \n",
       "2011-06-01 -0.0341 -0.0208 -0.0139 -0.0365  \n",
       "\n",
       "[5 rows x 35 columns]"
      ]
     },
     "execution_count": 5,
     "metadata": {},
     "output_type": "execute_result"
    }
   ],
   "source": [
    "return_table.head()"
   ]
  },
  {
   "cell_type": "code",
   "execution_count": 8,
   "metadata": {
    "colab": {
     "base_uri": "https://localhost:8080/",
     "height": 551
    },
    "id": "03OwI867TuMs",
    "outputId": "551ae50e-1d8c-44b2-c796-2bdb5c2dd102",
    "scrolled": true
   },
   "outputs": [
    {
     "data": {
      "image/png": "[encoded data removed]",
      "text/plain": [
       "<Figure size 432x288 with 1 Axes>"
      ]
     },
     "execution_count": 8,
     "metadata": {},
     "output_type": "execute_result"
    },
    {
     "data": {
      "image/png": "[encoded data removed]",
      "text/plain": [
       "<Figure size 432x288 with 1 Axes>"
      ]
     },
     "metadata": {},
     "output_type": "display_data"
    }
   ],
   "source": [
    "# Let's check the autocorrelation first\n",
    "\n",
    "ranking_table = resample_risk_adjusted_retrun_table(return_table, 1).shift(1).rank(axis=1, na_option='keep', ascending = False) # one week look-back period, select top 2 ETFs\n",
    "ranking_table.drop('XLC', inplace=True, axis=1)\n",
    "ranking_table.dropna()\n",
    "\n",
    "from statsmodels.graphics.tsaplots import plot_pacf\n",
    "plot_pacf(x = ranking_table.MGK[1:], lags= np.arange(10) )"
   ]
  },
  {
   "cell_type": "code",
   "execution_count": 9,
   "metadata": {
    "id": "OShzGDuyTuMt"
   },
   "outputs": [],
   "source": [
    "# Let's see the autocorrelation in the ranking time series data\n",
    "\n",
    "lag1 = 0 \n",
    "lag2 = 0\n",
    "lag3 = 0 \n",
    "count = 0 \n",
    "for col in ranking_table.columns:\n",
    "    lag1 += ranking_table[col][1:].autocorr(lag=1)\n",
    "    lag2 += ranking_table[col][1:].autocorr(lag=2)\n",
    "    lag3 += ranking_table[col][1:].autocorr(lag=3)\n",
    "    count += 1"
   ]
  },
  {
   "cell_type": "code",
   "execution_count": 10,
   "metadata": {
    "colab": {
     "base_uri": "https://localhost:8080/"
    },
    "id": "lkO0gdV_TuMt",
    "outputId": "e04e7f78-a1e6-4a6e-e2d3-02ae1a525933"
   },
   "outputs": [
    {
     "data": {
      "text/plain": [
       "-0.0031118469493151275"
      ]
     },
     "execution_count": 10,
     "metadata": {},
     "output_type": "execute_result"
    }
   ],
   "source": [
    "lag1/count"
   ]
  },
  {
   "cell_type": "code",
   "execution_count": 11,
   "metadata": {
    "colab": {
     "base_uri": "https://localhost:8080/"
    },
    "id": "YHa_SaRBTuMt",
    "outputId": "768675ff-807e-4e7e-9c34-fc96d90b2c5b"
   },
   "outputs": [
    {
     "data": {
      "text/plain": [
       "0.021481260585947567"
      ]
     },
     "execution_count": 11,
     "metadata": {},
     "output_type": "execute_result"
    }
   ],
   "source": [
    "lag2/count"
   ]
  },
  {
   "cell_type": "code",
   "execution_count": 12,
   "metadata": {
    "colab": {
     "base_uri": "https://localhost:8080/"
    },
    "id": "1PD-7mZWTuMu",
    "outputId": "8c9b16ab-c13e-4803-edbe-725420b80cf8"
   },
   "outputs": [
    {
     "data": {
      "text/plain": [
       "0.021261232595903085"
      ]
     },
     "execution_count": 12,
     "metadata": {},
     "output_type": "execute_result"
    }
   ],
   "source": [
    "lag3/count"
   ]
  },
  {
   "cell_type": "markdown",
   "metadata": {
    "id": "DzNv03JrgzO9"
   },
   "source": [
    "Forecasting by LSTM model"
   ]
  },
  {
   "cell_type": "code",
   "execution_count": 13,
   "metadata": {
    "id": "ECG-OnPLgvME"
   },
   "outputs": [],
   "source": [
    "import numpy as np\n",
    "import matplotlib.pyplot as plt\n",
    "import pandas as pd\n",
    "import torch\n",
    "import torch.nn as nn\n",
    "from torch.autograd import Variable\n",
    "from sklearn.preprocessing import MinMaxScaler"
   ]
  },
  {
   "cell_type": "code",
   "execution_count": 14,
   "metadata": {
    "id": "xbFQ6v_4jtCL"
   },
   "outputs": [],
   "source": [
    "class DataPreprocess():\n",
    "    def __init__(self, data, seq_length):\n",
    "        self.data = data\n",
    "        self.seq_len = seq_length\n",
    "        self.trainX = None\n",
    "        self.trainY = None\n",
    "        self.testX = None\n",
    "        self.testY = None\n",
    "        self.scaler = None\n",
    "        self.date = list(data.index)\n",
    "        self.indexY = []\n",
    "\n",
    "    def sliding_windows(self):\n",
    "        x = []\n",
    "        y = []\n",
    "        for i in range(len(self.data)-self.seq_len):\n",
    "            _x = self.data[i:(i+self.seq_len)]\n",
    "            _y = self.data[i+self.seq_len]\n",
    "            x.append(_x)\n",
    "            y.append(_y)\n",
    "            self.indexY.append(self.date[i+self.seq_len])\n",
    "        return np.array(x),np.array(y)\n",
    "    \n",
    "    def split_train_test(self, split_percentage = 0.9):\n",
    "        sc = MinMaxScaler()\n",
    "        self.data = self.data.values.reshape(-1, 1)\n",
    "        self.data = sc.fit_transform(self.data)\n",
    "        self.scaler = sc \n",
    "        x, y = self.sliding_windows()\n",
    "\n",
    "        train_size = int(len(y) * split_percentage)\n",
    "        test_size = len(y) - train_size\n",
    "\n",
    "        dataX = Variable(torch.Tensor(np.array(x)))\n",
    "        dataY = Variable(torch.Tensor(np.array(y)))\n",
    "\n",
    "        self.trainX = Variable(torch.Tensor(np.array(x[:train_size])))\n",
    "        self.trainY = Variable(torch.Tensor(np.array(y[:train_size])))\n",
    "\n",
    "        self.testX = Variable(torch.Tensor(np.array(x[train_size:])))\n",
    "        self.testY = Variable(torch.Tensor(np.array(y[train_size:])))\n",
    "        self.test_index = self.indexY[train_size:]\n",
    "\n",
    "    def get_training_data(self):\n",
    "        return self.trainX, self.trainY \n",
    "    \n",
    "    def get_testing_data(self):\n",
    "        return self.testX, self.testY\n",
    "\n"
   ]
  },
  {
   "cell_type": "code",
   "execution_count": 15,
   "metadata": {
    "id": "n08Qs0AgiPGl"
   },
   "outputs": [],
   "source": [
    "class LSTM(nn.Module):\n",
    "\n",
    "    def __init__(self, num_classes, input_size, hidden_size, num_layers):\n",
    "        super(LSTM, self).__init__()\n",
    "        \n",
    "        self.num_classes = num_classes\n",
    "        self.num_layers = num_layers\n",
    "        self.input_size = input_size\n",
    "        self.hidden_size = hidden_size\n",
    "        \n",
    "        self.lstm = nn.LSTM(input_size=input_size, hidden_size=hidden_size,\n",
    "                            num_layers=num_layers, batch_first=True)\n",
    "        \n",
    "        self.fc = nn.Linear(hidden_size, num_classes)\n",
    "\n",
    "    def forward(self, x):\n",
    "        h_0 = Variable(torch.zeros(\n",
    "            self.num_layers, x.size(0), self.hidden_size))\n",
    "        \n",
    "        c_0 = Variable(torch.zeros(\n",
    "            self.num_layers, x.size(0), self.hidden_size))\n",
    "        \n",
    "        # Propagate input through LSTM\n",
    "        ula, (h_out, _) = self.lstm(x, (h_0, c_0))\n",
    "        \n",
    "        h_out = h_out.view(-1, self.hidden_size)\n",
    "        \n",
    "        out = self.fc(h_out)\n",
    "        \n",
    "        return out"
   ]
  },
  {
   "cell_type": "code",
   "execution_count": 16,
   "metadata": {
    "id": "P-1srXQkrUZ4"
   },
   "outputs": [],
   "source": [
    "def training(model, num_epochs, learning_rate, trainX, trainY):\n",
    "    criterion = torch.nn.MSELoss()    # mean-squared error for regression\n",
    "    optimizer = torch.optim.Adam(model.parameters(), lr=learning_rate)\n",
    "    #optimizer = torch.optim.SGD(lstm.parameters(), lr=learning_rate)\n",
    "\n",
    "    # Train the model\n",
    "    for epoch in range(num_epochs):\n",
    "        outputs = model(trainX)\n",
    "        optimizer.zero_grad()\n",
    "        \n",
    "        # obtain the loss function\n",
    "        loss = criterion(outputs, trainY)\n",
    "        loss.backward()\n",
    "        optimizer.step()\n",
    "        if (epoch+1) % 100 == 0:\n",
    "            print(\"Epoch: %d, loss: %1.5f\" % (epoch+1, loss.item()))\n",
    "    \n",
    "def predict(model, testing_data, scaler):\n",
    "    sc = MinMaxScaler()\n",
    "    predict = model(testing_data)\n",
    "    predict = predict.data.numpy()\n",
    "    scaled_pred = scaler.inverse_transform(predict)\n",
    "    pred_list = list(scaled_pred.reshape(1, -1)[0])\n",
    "    return pred_list"
   ]
  },
  {
   "cell_type": "code",
   "execution_count": 17,
   "metadata": {
    "id": "Ezr0VLAPHwUB"
   },
   "outputs": [],
   "source": [
    "clean_return_table = return_table.dropna(axis= 1, how = 'any')"
   ]
  },
  {
   "cell_type": "code",
   "execution_count": 26,
   "metadata": {
    "colab": {
     "base_uri": "https://localhost:8080/"
    },
    "id": "VY6g7dKMIEjz",
    "outputId": "afcaccff-31e8-47fe-dcde-65d9587fdfc2"
   },
   "outputs": [
    {
     "name": "stdout",
     "output_type": "stream",
     "text": [
      "MGC\n",
      "Epoch: 100, loss: 0.00265\n",
      "MGK\n",
      "Epoch: 100, loss: 0.00275\n",
      "MGV\n",
      "Epoch: 100, loss: 0.00300\n",
      "SDY\n",
      "Epoch: 100, loss: 0.00273\n",
      "SPLV\n",
      "Epoch: 100, loss: 0.00207\n",
      "VB\n",
      "Epoch: 100, loss: 0.00317\n",
      "VBK\n",
      "Epoch: 100, loss: 0.00322\n",
      "VBR\n",
      "Epoch: 100, loss: 0.00327\n",
      "VCR\n",
      "Epoch: 100, loss: 0.00286\n",
      "VDC\n",
      "Epoch: 100, loss: 0.00244\n",
      "VDE\n",
      "Epoch: 100, loss: 0.00234\n",
      "VFH\n",
      "Epoch: 100, loss: 0.00305\n",
      "VGT\n",
      "Epoch: 100, loss: 0.00282\n",
      "VHT\n",
      "Epoch: 100, loss: 0.00356\n",
      "VIG\n",
      "Epoch: 100, loss: 0.00273\n",
      "VIS\n",
      "Epoch: 100, loss: 0.00289\n",
      "VNQ\n",
      "Epoch: 100, loss: 0.00234\n",
      "VO\n",
      "Epoch: 100, loss: 0.00268\n",
      "VOE\n",
      "Epoch: 100, loss: 0.00263\n",
      "VOT\n",
      "Epoch: 100, loss: 0.00272\n",
      "VOX\n",
      "Epoch: 100, loss: 0.00321\n",
      "VPU\n",
      "Epoch: 100, loss: 0.00228\n",
      "VTV\n",
      "Epoch: 100, loss: 0.00277\n",
      "VUG\n",
      "Epoch: 100, loss: 0.00291\n",
      "VV\n",
      "Epoch: 100, loss: 0.00255\n",
      "VYM\n",
      "Epoch: 100, loss: 0.00289\n",
      "XBI\n",
      "Epoch: 100, loss: 0.00791\n",
      "XLB\n",
      "Epoch: 100, loss: 0.00351\n",
      "XLI\n",
      "Epoch: 100, loss: 0.00282\n",
      "XLK\n",
      "Epoch: 100, loss: 0.00256\n",
      "XLV\n",
      "Epoch: 100, loss: 0.00390\n",
      "XME\n",
      "Epoch: 100, loss: 0.00563\n"
     ]
    }
   ],
   "source": [
    "num_epochs = 100\n",
    "learning_rate = 0.001\n",
    "input_size = 1\n",
    "hidden_size = 32\n",
    "num_layers = 1\n",
    "num_classes = 1\n",
    "models = {}\n",
    "ts_data = {}\n",
    "LSTM_prediction_return_table = pd.DataFrame()\n",
    "for ticker in clean_return_table.columns:\n",
    "    print(ticker)\n",
    "    data = DataPreprocess(clean_return_table[ticker], 25)\n",
    "    data.split_train_test()\n",
    "    ts_data[ticker] = data\n",
    "    lstm = LSTM(num_classes, input_size, hidden_size, num_layers)\n",
    "    training(lstm, num_epochs, learning_rate, data.trainX, data.trainY)\n",
    "    models[ticker] = lstm\n",
    "    pred = predict(lstm, data.testX, data.scaler)\n",
    "    LSTM_prediction_return_table[ticker] = pred"
   ]
  },
  {
   "cell_type": "code",
   "execution_count": 27,
   "metadata": {
    "id": "rcpB2Zh9JnCV"
   },
   "outputs": [],
   "source": [
    "LSTM_prediction_return_table['index'] = pd.to_datetime(ts_data[ticker].test_index)\n",
    "LSTM_prediction_return_table = LSTM_prediction_return_table.set_index('index')"
   ]
  },
  {
   "cell_type": "code",
   "execution_count": 28,
   "metadata": {
    "colab": {
     "base_uri": "https://localhost:8080/",
     "height": 640
    },
    "id": "FjKLxCARqcFw",
    "outputId": "d329dd78-e870-4dca-a6f9-1112ced36c71"
   },
   "outputs": [
    {
     "data": {
      "text/html": [
       "<div>\n",
       "<style scoped>\n",
       "    .dataframe tbody tr th:only-of-type {\n",
       "        vertical-align: middle;\n",
       "    }\n",
       "\n",
       "    .dataframe tbody tr th {\n",
       "        vertical-align: top;\n",
       "    }\n",
       "\n",
       "    .dataframe thead th {\n",
       "        text-align: right;\n",
       "    }\n",
       "</style>\n",
       "<table border=\"1\" class=\"dataframe\">\n",
       "  <thead>\n",
       "    <tr style=\"text-align: right;\">\n",
       "      <th></th>\n",
       "      <th>MGC</th>\n",
       "      <th>MGK</th>\n",
       "      <th>MGV</th>\n",
       "      <th>SDY</th>\n",
       "      <th>SPLV</th>\n",
       "      <th>VB</th>\n",
       "      <th>VBK</th>\n",
       "      <th>VBR</th>\n",
       "      <th>VCR</th>\n",
       "      <th>VDC</th>\n",
       "      <th>...</th>\n",
       "      <th>VTV</th>\n",
       "      <th>VUG</th>\n",
       "      <th>VV</th>\n",
       "      <th>VYM</th>\n",
       "      <th>XBI</th>\n",
       "      <th>XLB</th>\n",
       "      <th>XLI</th>\n",
       "      <th>XLK</th>\n",
       "      <th>XLV</th>\n",
       "      <th>XME</th>\n",
       "    </tr>\n",
       "    <tr>\n",
       "      <th>index</th>\n",
       "      <th></th>\n",
       "      <th></th>\n",
       "      <th></th>\n",
       "      <th></th>\n",
       "      <th></th>\n",
       "      <th></th>\n",
       "      <th></th>\n",
       "      <th></th>\n",
       "      <th></th>\n",
       "      <th></th>\n",
       "      <th></th>\n",
       "      <th></th>\n",
       "      <th></th>\n",
       "      <th></th>\n",
       "      <th></th>\n",
       "      <th></th>\n",
       "      <th></th>\n",
       "      <th></th>\n",
       "      <th></th>\n",
       "      <th></th>\n",
       "      <th></th>\n",
       "    </tr>\n",
       "  </thead>\n",
       "  <tbody>\n",
       "    <tr>\n",
       "      <th>2020-05-26</th>\n",
       "      <td>0.001410</td>\n",
       "      <td>0.002500</td>\n",
       "      <td>0.000070</td>\n",
       "      <td>0.001168</td>\n",
       "      <td>0.001261</td>\n",
       "      <td>0.002630</td>\n",
       "      <td>0.001996</td>\n",
       "      <td>0.003049</td>\n",
       "      <td>0.002914</td>\n",
       "      <td>0.000699</td>\n",
       "      <td>...</td>\n",
       "      <td>-0.000217</td>\n",
       "      <td>0.002135</td>\n",
       "      <td>0.001849</td>\n",
       "      <td>0.001208</td>\n",
       "      <td>-0.000020</td>\n",
       "      <td>0.000747</td>\n",
       "      <td>0.000817</td>\n",
       "      <td>0.002409</td>\n",
       "      <td>0.000910</td>\n",
       "      <td>-0.000649</td>\n",
       "    </tr>\n",
       "    <tr>\n",
       "      <th>2020-05-27</th>\n",
       "      <td>0.001725</td>\n",
       "      <td>0.002418</td>\n",
       "      <td>0.000623</td>\n",
       "      <td>0.002234</td>\n",
       "      <td>0.001521</td>\n",
       "      <td>0.003244</td>\n",
       "      <td>0.002201</td>\n",
       "      <td>0.004034</td>\n",
       "      <td>0.003428</td>\n",
       "      <td>0.000915</td>\n",
       "      <td>...</td>\n",
       "      <td>0.000474</td>\n",
       "      <td>0.002039</td>\n",
       "      <td>0.002026</td>\n",
       "      <td>0.001841</td>\n",
       "      <td>-0.001157</td>\n",
       "      <td>0.001108</td>\n",
       "      <td>0.002117</td>\n",
       "      <td>0.002153</td>\n",
       "      <td>0.000824</td>\n",
       "      <td>-0.000013</td>\n",
       "    </tr>\n",
       "    <tr>\n",
       "      <th>2020-05-28</th>\n",
       "      <td>0.002005</td>\n",
       "      <td>0.002430</td>\n",
       "      <td>0.001098</td>\n",
       "      <td>0.002782</td>\n",
       "      <td>0.002081</td>\n",
       "      <td>0.003750</td>\n",
       "      <td>0.002303</td>\n",
       "      <td>0.004779</td>\n",
       "      <td>0.003846</td>\n",
       "      <td>0.001523</td>\n",
       "      <td>...</td>\n",
       "      <td>0.001126</td>\n",
       "      <td>0.002119</td>\n",
       "      <td>0.002242</td>\n",
       "      <td>0.002344</td>\n",
       "      <td>-0.001253</td>\n",
       "      <td>0.001166</td>\n",
       "      <td>0.002659</td>\n",
       "      <td>0.002371</td>\n",
       "      <td>0.001451</td>\n",
       "      <td>0.000956</td>\n",
       "    </tr>\n",
       "    <tr>\n",
       "      <th>2020-05-29</th>\n",
       "      <td>0.001633</td>\n",
       "      <td>0.002394</td>\n",
       "      <td>0.000776</td>\n",
       "      <td>0.001958</td>\n",
       "      <td>0.002211</td>\n",
       "      <td>0.003022</td>\n",
       "      <td>0.001658</td>\n",
       "      <td>0.003875</td>\n",
       "      <td>0.002585</td>\n",
       "      <td>0.001782</td>\n",
       "      <td>...</td>\n",
       "      <td>0.000871</td>\n",
       "      <td>0.002036</td>\n",
       "      <td>0.002106</td>\n",
       "      <td>0.002031</td>\n",
       "      <td>-0.001714</td>\n",
       "      <td>0.001203</td>\n",
       "      <td>0.001497</td>\n",
       "      <td>0.002063</td>\n",
       "      <td>0.002137</td>\n",
       "      <td>-0.000199</td>\n",
       "    </tr>\n",
       "    <tr>\n",
       "      <th>2020-06-01</th>\n",
       "      <td>0.001714</td>\n",
       "      <td>0.002453</td>\n",
       "      <td>0.000585</td>\n",
       "      <td>0.001448</td>\n",
       "      <td>0.002288</td>\n",
       "      <td>0.002632</td>\n",
       "      <td>0.001973</td>\n",
       "      <td>0.003131</td>\n",
       "      <td>0.002695</td>\n",
       "      <td>0.001801</td>\n",
       "      <td>...</td>\n",
       "      <td>0.000687</td>\n",
       "      <td>0.002173</td>\n",
       "      <td>0.002100</td>\n",
       "      <td>0.001914</td>\n",
       "      <td>-0.001345</td>\n",
       "      <td>0.001059</td>\n",
       "      <td>0.000881</td>\n",
       "      <td>0.002716</td>\n",
       "      <td>0.002594</td>\n",
       "      <td>-0.000554</td>\n",
       "    </tr>\n",
       "    <tr>\n",
       "      <th>...</th>\n",
       "      <td>...</td>\n",
       "      <td>...</td>\n",
       "      <td>...</td>\n",
       "      <td>...</td>\n",
       "      <td>...</td>\n",
       "      <td>...</td>\n",
       "      <td>...</td>\n",
       "      <td>...</td>\n",
       "      <td>...</td>\n",
       "      <td>...</td>\n",
       "      <td>...</td>\n",
       "      <td>...</td>\n",
       "      <td>...</td>\n",
       "      <td>...</td>\n",
       "      <td>...</td>\n",
       "      <td>...</td>\n",
       "      <td>...</td>\n",
       "      <td>...</td>\n",
       "      <td>...</td>\n",
       "      <td>...</td>\n",
       "      <td>...</td>\n",
       "    </tr>\n",
       "    <tr>\n",
       "      <th>2021-05-14</th>\n",
       "      <td>0.000735</td>\n",
       "      <td>0.000727</td>\n",
       "      <td>-0.000110</td>\n",
       "      <td>0.000643</td>\n",
       "      <td>0.001421</td>\n",
       "      <td>0.000133</td>\n",
       "      <td>0.000641</td>\n",
       "      <td>0.001348</td>\n",
       "      <td>0.000282</td>\n",
       "      <td>0.000761</td>\n",
       "      <td>...</td>\n",
       "      <td>-0.000641</td>\n",
       "      <td>-0.000114</td>\n",
       "      <td>0.001066</td>\n",
       "      <td>0.001154</td>\n",
       "      <td>-0.003052</td>\n",
       "      <td>0.000517</td>\n",
       "      <td>0.000277</td>\n",
       "      <td>0.000206</td>\n",
       "      <td>0.000997</td>\n",
       "      <td>-0.000960</td>\n",
       "    </tr>\n",
       "    <tr>\n",
       "      <th>2021-05-17</th>\n",
       "      <td>0.001294</td>\n",
       "      <td>0.001273</td>\n",
       "      <td>0.000171</td>\n",
       "      <td>0.000907</td>\n",
       "      <td>0.001566</td>\n",
       "      <td>0.000979</td>\n",
       "      <td>0.001784</td>\n",
       "      <td>0.001998</td>\n",
       "      <td>0.001678</td>\n",
       "      <td>0.001044</td>\n",
       "      <td>...</td>\n",
       "      <td>-0.000327</td>\n",
       "      <td>0.000936</td>\n",
       "      <td>0.001473</td>\n",
       "      <td>0.001441</td>\n",
       "      <td>-0.001398</td>\n",
       "      <td>0.000703</td>\n",
       "      <td>0.000736</td>\n",
       "      <td>0.001924</td>\n",
       "      <td>0.001268</td>\n",
       "      <td>-0.000347</td>\n",
       "    </tr>\n",
       "    <tr>\n",
       "      <th>2021-05-18</th>\n",
       "      <td>0.001027</td>\n",
       "      <td>0.001462</td>\n",
       "      <td>0.000129</td>\n",
       "      <td>0.000759</td>\n",
       "      <td>0.001421</td>\n",
       "      <td>0.001119</td>\n",
       "      <td>0.001122</td>\n",
       "      <td>0.002155</td>\n",
       "      <td>0.001517</td>\n",
       "      <td>0.001035</td>\n",
       "      <td>...</td>\n",
       "      <td>-0.000268</td>\n",
       "      <td>0.000944</td>\n",
       "      <td>0.001444</td>\n",
       "      <td>0.001392</td>\n",
       "      <td>-0.001378</td>\n",
       "      <td>0.000829</td>\n",
       "      <td>0.000455</td>\n",
       "      <td>0.001424</td>\n",
       "      <td>0.001133</td>\n",
       "      <td>0.001061</td>\n",
       "    </tr>\n",
       "    <tr>\n",
       "      <th>2021-05-19</th>\n",
       "      <td>0.000753</td>\n",
       "      <td>0.001386</td>\n",
       "      <td>-0.000173</td>\n",
       "      <td>0.000355</td>\n",
       "      <td>0.001279</td>\n",
       "      <td>0.000982</td>\n",
       "      <td>0.001220</td>\n",
       "      <td>0.001800</td>\n",
       "      <td>0.001110</td>\n",
       "      <td>0.000886</td>\n",
       "      <td>...</td>\n",
       "      <td>-0.000579</td>\n",
       "      <td>0.000794</td>\n",
       "      <td>0.001301</td>\n",
       "      <td>0.001025</td>\n",
       "      <td>-0.001099</td>\n",
       "      <td>0.000597</td>\n",
       "      <td>-0.000138</td>\n",
       "      <td>0.000915</td>\n",
       "      <td>0.001146</td>\n",
       "      <td>-0.000210</td>\n",
       "    </tr>\n",
       "    <tr>\n",
       "      <th>2021-05-20</th>\n",
       "      <td>0.000755</td>\n",
       "      <td>0.001382</td>\n",
       "      <td>-0.000330</td>\n",
       "      <td>0.000178</td>\n",
       "      <td>0.001179</td>\n",
       "      <td>0.000785</td>\n",
       "      <td>0.001061</td>\n",
       "      <td>0.001445</td>\n",
       "      <td>0.000783</td>\n",
       "      <td>0.000672</td>\n",
       "      <td>...</td>\n",
       "      <td>-0.000821</td>\n",
       "      <td>0.000873</td>\n",
       "      <td>0.001256</td>\n",
       "      <td>0.000826</td>\n",
       "      <td>-0.001720</td>\n",
       "      <td>0.000280</td>\n",
       "      <td>-0.000197</td>\n",
       "      <td>0.001260</td>\n",
       "      <td>0.001030</td>\n",
       "      <td>-0.001416</td>\n",
       "    </tr>\n",
       "  </tbody>\n",
       "</table>\n",
       "<p>250 rows × 32 columns</p>\n",
       "</div>"
      ],
      "text/plain": [
       "                 MGC       MGK       MGV       SDY      SPLV        VB  \\\n",
       "index                                                                    \n",
       "2020-05-26  0.001410  0.002500  0.000070  0.001168  0.001261  0.002630   \n",
       "2020-05-27  0.001725  0.002418  0.000623  0.002234  0.001521  0.003244   \n",
       "2020-05-28  0.002005  0.002430  0.001098  0.002782  0.002081  0.003750   \n",
       "2020-05-29  0.001633  0.002394  0.000776  0.001958  0.002211  0.003022   \n",
       "2020-06-01  0.001714  0.002453  0.000585  0.001448  0.002288  0.002632   \n",
       "...              ...       ...       ...       ...       ...       ...   \n",
       "2021-05-14  0.000735  0.000727 -0.000110  0.000643  0.001421  0.000133   \n",
       "2021-05-17  0.001294  0.001273  0.000171  0.000907  0.001566  0.000979   \n",
       "2021-05-18  0.001027  0.001462  0.000129  0.000759  0.001421  0.001119   \n",
       "2021-05-19  0.000753  0.001386 -0.000173  0.000355  0.001279  0.000982   \n",
       "2021-05-20  0.000755  0.001382 -0.000330  0.000178  0.001179  0.000785   \n",
       "\n",
       "                 VBK       VBR       VCR       VDC  ...       VTV       VUG  \\\n",
       "index                                               ...                       \n",
       "2020-05-26  0.001996  0.003049  0.002914  0.000699  ... -0.000217  0.002135   \n",
       "2020-05-27  0.002201  0.004034  0.003428  0.000915  ...  0.000474  0.002039   \n",
       "2020-05-28  0.002303  0.004779  0.003846  0.001523  ...  0.001126  0.002119   \n",
       "2020-05-29  0.001658  0.003875  0.002585  0.001782  ...  0.000871  0.002036   \n",
       "2020-06-01  0.001973  0.003131  0.002695  0.001801  ...  0.000687  0.002173   \n",
       "...              ...       ...       ...       ...  ...       ...       ...   \n",
       "2021-05-14  0.000641  0.001348  0.000282  0.000761  ... -0.000641 -0.000114   \n",
       "2021-05-17  0.001784  0.001998  0.001678  0.001044  ... -0.000327  0.000936   \n",
       "2021-05-18  0.001122  0.002155  0.001517  0.001035  ... -0.000268  0.000944   \n",
       "2021-05-19  0.001220  0.001800  0.001110  0.000886  ... -0.000579  0.000794   \n",
       "2021-05-20  0.001061  0.001445  0.000783  0.000672  ... -0.000821  0.000873   \n",
       "\n",
       "                  VV       VYM       XBI       XLB       XLI       XLK  \\\n",
       "index                                                                    \n",
       "2020-05-26  0.001849  0.001208 -0.000020  0.000747  0.000817  0.002409   \n",
       "2020-05-27  0.002026  0.001841 -0.001157  0.001108  0.002117  0.002153   \n",
       "2020-05-28  0.002242  0.002344 -0.001253  0.001166  0.002659  0.002371   \n",
       "2020-05-29  0.002106  0.002031 -0.001714  0.001203  0.001497  0.002063   \n",
       "2020-06-01  0.002100  0.001914 -0.001345  0.001059  0.000881  0.002716   \n",
       "...              ...       ...       ...       ...       ...       ...   \n",
       "2021-05-14  0.001066  0.001154 -0.003052  0.000517  0.000277  0.000206   \n",
       "2021-05-17  0.001473  0.001441 -0.001398  0.000703  0.000736  0.001924   \n",
       "2021-05-18  0.001444  0.001392 -0.001378  0.000829  0.000455  0.001424   \n",
       "2021-05-19  0.001301  0.001025 -0.001099  0.000597 -0.000138  0.000915   \n",
       "2021-05-20  0.001256  0.000826 -0.001720  0.000280 -0.000197  0.001260   \n",
       "\n",
       "                 XLV       XME  \n",
       "index                           \n",
       "2020-05-26  0.000910 -0.000649  \n",
       "2020-05-27  0.000824 -0.000013  \n",
       "2020-05-28  0.001451  0.000956  \n",
       "2020-05-29  0.002137 -0.000199  \n",
       "2020-06-01  0.002594 -0.000554  \n",
       "...              ...       ...  \n",
       "2021-05-14  0.000997 -0.000960  \n",
       "2021-05-17  0.001268 -0.000347  \n",
       "2021-05-18  0.001133  0.001061  \n",
       "2021-05-19  0.001146 -0.000210  \n",
       "2021-05-20  0.001030 -0.001416  \n",
       "\n",
       "[250 rows x 32 columns]"
      ]
     },
     "execution_count": 28,
     "metadata": {},
     "output_type": "execute_result"
    }
   ],
   "source": [
    "LSTM_prediction_return_table"
   ]
  },
  {
   "cell_type": "markdown",
   "metadata": {
    "id": "wxE052gETuMu"
   },
   "source": [
    "# Forecasting the daily return by TFT model "
   ]
  },
  {
   "cell_type": "code",
   "execution_count": 21,
   "metadata": {
    "id": "uIaQU2fBTuMv"
   },
   "outputs": [],
   "source": [
    "import torch \n",
    "from pytorch_forecasting import TimeSeriesDataSet, TemporalFusionTransformer\n",
    "from pytorch_forecasting.metrics import QuantileLoss\n",
    "import pytorch_lightning as pl\n",
    "\n",
    "# hyperparameter here is being tuned, please remember the value before trying to change anything here\n",
    "\n",
    "# Pytorch Lighting is a high-level interface fro PyTorch\n",
    "# PyTorch Forecasting is a time series prediction package based on PyTorch and PyTorch Lighting\n",
    "# Check the followong link for more infomation regarding to the model and hyperparameter\n",
    "\n",
    "# For PyTorch Forecasting example\n",
    "# https://bit.ly/31SpgPc\n",
    "\n",
    "# For TFT model\n",
    "# https://bit.ly/3cZaTPr\n",
    "\n",
    "# For loss function and QuantileLoss\n",
    "# https://bit.ly/2Q6htdQ\n",
    "# https://bit.ly/3uysXpr\n",
    "\n",
    "# For hyperparameter in TemporalFusionTransformer\n",
    "# https://bit.ly/2RjZAZJ\n",
    "\n",
    "# For hyperparameter in TimeSeriesDataSet\n",
    "# https://bit.ly/3d0s82N\n",
    "\n",
    "class TimeSeriesPredictionModel:\n",
    "    def __init__(self, table, target, columns, split_percent = 0.9, num_days = 15):\n",
    "        self.train_num = int(len(table)*split_percent)\n",
    "        self.dataset = table[columns]\n",
    "        self.dataset = self.dataset.reset_index()\n",
    "        self.dataset['time_idx'] = range(len(self.dataset))\n",
    "        self.date_mapping = list(self.dataset['index'])\n",
    "        self.dataset['group'] = 0\n",
    "        self.num_days = num_days\n",
    "        self.target = target\n",
    "        self.considered_ts = columns \n",
    "        self.training_set = self.datasetToTimeseriesdataset(self.dataset[:self.train_num])\n",
    "        self.val_set = self.datasetToTimeseriesdataset(self.dataset[self.train_num:])\n",
    "        self.test_set = self.datasetToTimeseriesdataset(self.dataset[self.train_num:], True)\n",
    "        self.model = self.buildModel()\n",
    "        \n",
    "    def datasetToTimeseriesdataset(self, ds, prediction_mode = False):\n",
    "        return TimeSeriesDataSet(\n",
    "            ds,\n",
    "            group_ids=['group'],\n",
    "            target=self.target,\n",
    "            time_idx=\"time_idx\",\n",
    "            min_encoder_length=self.num_days,\n",
    "            max_encoder_length=self.num_days,\n",
    "            min_prediction_length=1,\n",
    "            max_prediction_length=1,\n",
    "            time_varying_unknown_reals=self.considered_ts,\n",
    "            time_varying_known_reals=['time_idx'],\n",
    "            predict_mode = prediction_mode\n",
    "        )\n",
    "    \n",
    "    def buildModel(self):\n",
    "        return TemporalFusionTransformer.from_dataset(\n",
    "         self.training_set,\n",
    "         learning_rate=0.001,\n",
    "         hidden_size=16,  # biggest influence network size\n",
    "         attention_head_size=2,\n",
    "         dropout=0.5,\n",
    "         lstm_layers = 2, \n",
    "         hidden_continuous_size=8,\n",
    "         output_size=1, \n",
    "         loss=QuantileLoss([0.5]), # mean absolute error \n",
    "         reduce_on_plateau_patience=4,  # reduce learning automatically\n",
    "        )\n",
    "    \n",
    "    def trainModel(self, num_epoch, batch_size):\n",
    "        dataloader_train = self.training_set.to_dataloader(batch_size=batch_size)\n",
    "        dataloader_val = self.val_set.to_dataloader(batch_size=batch_size)\n",
    "        trainer = pl.Trainer(\n",
    "         max_epochs=num_epoch,\n",
    "         gpus=0,  \n",
    "         gradient_clip_val=0.1,\n",
    "         limit_train_batches=20,  # running validation for every 20 batches\n",
    "         num_sanity_val_steps = 0,\n",
    "     )\n",
    "        trainer.fit(\n",
    "         self.model,\n",
    "         train_dataloader=dataloader_train,\n",
    "         val_dataloaders=dataloader_val\n",
    "        ) \n",
    "    \n",
    "    def predict(self):\n",
    "        dataloader = tsmodel.val_set.to_dataloader(batch_size = 1, shuffle = False )\n",
    "        return_list = []\n",
    "        date_list = []\n",
    "        for x, y in dataloader:\n",
    "            return_list.append(self.model(x)['prediction'].item())\n",
    "            idx = int(self.val_set.x_to_index(x).time_idx)\n",
    "            date_list.append(self.date_mapping[idx])\n",
    "        pred_df = pd.DataFrame( {'date':date_list, 'return':return_list})\n",
    "        return pred_df\n",
    "        "
   ]
  },
  {
   "cell_type": "markdown",
   "metadata": {
    "id": "i2_qEB7nTuMw"
   },
   "source": [
    "# Retrun Prediction"
   ]
  },
  {
   "cell_type": "code",
   "execution_count": 22,
   "metadata": {
    "id": "bnk742pFTuMx"
   },
   "outputs": [],
   "source": [
    "# normalize the data\n",
    "\n",
    "# for proper compliable with activation function, remember to normalize the data(retrun table here) before put into\n",
    "# model\n",
    "\n",
    "normalized_table = (return_table - return_table.mean())/return_table.std()\n",
    "normalized_table = normalized_table.fillna(0)"
   ]
  },
  {
   "cell_type": "code",
   "execution_count": 23,
   "metadata": {
    "id": "Umy-NjbnTuMx"
   },
   "outputs": [
    {
     "name": "stderr",
     "output_type": "stream",
     "text": [
      "GPU available: False, used: False\n",
      "TPU available: False, using: 0 TPU cores\n",
      "\n",
      "   | Name                               | Type                            | Params\n",
      "----------------------------------------------------------------------------------------\n",
      "0  | loss                               | QuantileLoss                    | 0     \n",
      "1  | logging_metrics                    | ModuleList                      | 0     \n",
      "2  | input_embeddings                   | MultiEmbedding                  | 0     \n",
      "3  | prescalers                         | ModuleDict                      | 576   \n",
      "4  | static_variable_selection          | VariableSelectionNetwork        | 0     \n",
      "5  | encoder_variable_selection         | VariableSelectionNetwork        | 25.6 K\n",
      "6  | decoder_variable_selection         | VariableSelectionNetwork        | 528   \n",
      "7  | static_context_variable_selection  | GatedResidualNetwork            | 1.1 K \n",
      "8  | static_context_initial_hidden_lstm | GatedResidualNetwork            | 1.1 K \n",
      "9  | static_context_initial_cell_lstm   | GatedResidualNetwork            | 1.1 K \n",
      "10 | static_context_enrichment          | GatedResidualNetwork            | 1.1 K \n",
      "11 | lstm_encoder                       | LSTM                            | 4.4 K \n",
      "12 | lstm_decoder                       | LSTM                            | 4.4 K \n",
      "13 | post_lstm_gate_encoder             | GatedLinearUnit                 | 544   \n",
      "14 | post_lstm_add_norm_encoder         | AddNorm                         | 32    \n",
      "15 | static_enrichment                  | GatedResidualNetwork            | 1.4 K \n",
      "16 | multihead_attn                     | InterpretableMultiHeadAttention | 808   \n",
      "17 | post_attn_gate_norm                | GateAddNorm                     | 576   \n",
      "18 | pos_wise_ff                        | GatedResidualNetwork            | 1.1 K \n",
      "19 | pre_output_gate_norm               | GateAddNorm                     | 576   \n",
      "20 | output_layer                       | Linear                          | 17    \n",
      "----------------------------------------------------------------------------------------\n",
      "44.3 K    Trainable params\n",
      "0         Non-trainable params\n",
      "44.3 K    Total params\n",
      "0.177     Total estimated model params size (MB)\n"
     ]
    },
    {
     "data": {
      "application/vnd.jupyter.widget-view+json": {
       "model_id": "86772f4766c7468d897e3afa0ab85aac",
       "version_major": 2,
       "version_minor": 0
      },
      "text/plain": [
       "Training: 0it [00:00, ?it/s]"
      ]
     },
     "metadata": {},
     "output_type": "display_data"
    },
    {
     "data": {
      "application/vnd.jupyter.widget-view+json": {
       "model_id": "",
       "version_major": 2,
       "version_minor": 0
      },
      "text/plain": [
       "Validating: 0it [00:00, ?it/s]"
      ]
     },
     "metadata": {},
     "output_type": "display_data"
    },
    {
     "name": "stderr",
     "output_type": "stream",
     "text": [
      "GPU available: False, used: False\n",
      "TPU available: False, using: 0 TPU cores\n",
      "\n",
      "   | Name                               | Type                            | Params\n",
      "----------------------------------------------------------------------------------------\n",
      "0  | loss                               | QuantileLoss                    | 0     \n",
      "1  | logging_metrics                    | ModuleList                      | 0     \n",
      "2  | input_embeddings                   | MultiEmbedding                  | 0     \n",
      "3  | prescalers                         | ModuleDict                      | 576   \n",
      "4  | static_variable_selection          | VariableSelectionNetwork        | 0     \n",
      "5  | encoder_variable_selection         | VariableSelectionNetwork        | 25.6 K\n",
      "6  | decoder_variable_selection         | VariableSelectionNetwork        | 528   \n",
      "7  | static_context_variable_selection  | GatedResidualNetwork            | 1.1 K \n",
      "8  | static_context_initial_hidden_lstm | GatedResidualNetwork            | 1.1 K \n",
      "9  | static_context_initial_cell_lstm   | GatedResidualNetwork            | 1.1 K \n",
      "10 | static_context_enrichment          | GatedResidualNetwork            | 1.1 K \n",
      "11 | lstm_encoder                       | LSTM                            | 4.4 K \n",
      "12 | lstm_decoder                       | LSTM                            | 4.4 K \n",
      "13 | post_lstm_gate_encoder             | GatedLinearUnit                 | 544   \n",
      "14 | post_lstm_add_norm_encoder         | AddNorm                         | 32    \n",
      "15 | static_enrichment                  | GatedResidualNetwork            | 1.4 K \n",
      "16 | multihead_attn                     | InterpretableMultiHeadAttention | 808   \n",
      "17 | post_attn_gate_norm                | GateAddNorm                     | 576   \n",
      "18 | pos_wise_ff                        | GatedResidualNetwork            | 1.1 K \n",
      "19 | pre_output_gate_norm               | GateAddNorm                     | 576   \n",
      "20 | output_layer                       | Linear                          | 17    \n",
      "----------------------------------------------------------------------------------------\n",
      "44.3 K    Trainable params\n",
      "0         Non-trainable params\n",
      "44.3 K    Total params\n",
      "0.177     Total estimated model params size (MB)\n"
     ]
    },
    {
     "data": {
      "application/vnd.jupyter.widget-view+json": {
       "model_id": "3dc8c14156c849069dc1660ea411b940",
       "version_major": 2,
       "version_minor": 0
      },
      "text/plain": [
       "Training: 0it [00:00, ?it/s]"
      ]
     },
     "metadata": {},
     "output_type": "display_data"
    },
    {
     "data": {
      "application/vnd.jupyter.widget-view+json": {
       "model_id": "",
       "version_major": 2,
       "version_minor": 0
      },
      "text/plain": [
       "Validating: 0it [00:00, ?it/s]"
      ]
     },
     "metadata": {},
     "output_type": "display_data"
    },
    {
     "name": "stderr",
     "output_type": "stream",
     "text": [
      "GPU available: False, used: False\n",
      "TPU available: False, using: 0 TPU cores\n",
      "\n",
      "   | Name                               | Type                            | Params\n",
      "----------------------------------------------------------------------------------------\n",
      "0  | loss                               | QuantileLoss                    | 0     \n",
      "1  | logging_metrics                    | ModuleList                      | 0     \n",
      "2  | input_embeddings                   | MultiEmbedding                  | 0     \n",
      "3  | prescalers                         | ModuleDict                      | 576   \n",
      "4  | static_variable_selection          | VariableSelectionNetwork        | 0     \n",
      "5  | encoder_variable_selection         | VariableSelectionNetwork        | 25.6 K\n",
      "6  | decoder_variable_selection         | VariableSelectionNetwork        | 528   \n",
      "7  | static_context_variable_selection  | GatedResidualNetwork            | 1.1 K \n",
      "8  | static_context_initial_hidden_lstm | GatedResidualNetwork            | 1.1 K \n",
      "9  | static_context_initial_cell_lstm   | GatedResidualNetwork            | 1.1 K \n",
      "10 | static_context_enrichment          | GatedResidualNetwork            | 1.1 K \n",
      "11 | lstm_encoder                       | LSTM                            | 4.4 K \n",
      "12 | lstm_decoder                       | LSTM                            | 4.4 K \n",
      "13 | post_lstm_gate_encoder             | GatedLinearUnit                 | 544   \n",
      "14 | post_lstm_add_norm_encoder         | AddNorm                         | 32    \n",
      "15 | static_enrichment                  | GatedResidualNetwork            | 1.4 K \n",
      "16 | multihead_attn                     | InterpretableMultiHeadAttention | 808   \n",
      "17 | post_attn_gate_norm                | GateAddNorm                     | 576   \n",
      "18 | pos_wise_ff                        | GatedResidualNetwork            | 1.1 K \n",
      "19 | pre_output_gate_norm               | GateAddNorm                     | 576   \n",
      "20 | output_layer                       | Linear                          | 17    \n",
      "----------------------------------------------------------------------------------------\n",
      "44.3 K    Trainable params\n",
      "0         Non-trainable params\n",
      "44.3 K    Total params\n",
      "0.177     Total estimated model params size (MB)\n"
     ]
    },
    {
     "data": {
      "application/vnd.jupyter.widget-view+json": {
       "model_id": "daf4bb4bf5c4439b9ac1a9d476d1d2e8",
       "version_major": 2,
       "version_minor": 0
      },
      "text/plain": [
       "Training: 0it [00:00, ?it/s]"
      ]
     },
     "metadata": {},
     "output_type": "display_data"
    },
    {
     "data": {
      "application/vnd.jupyter.widget-view+json": {
       "model_id": "",
       "version_major": 2,
       "version_minor": 0
      },
      "text/plain": [
       "Validating: 0it [00:00, ?it/s]"
      ]
     },
     "metadata": {},
     "output_type": "display_data"
    },
    {
     "name": "stderr",
     "output_type": "stream",
     "text": [
      "GPU available: False, used: False\n",
      "TPU available: False, using: 0 TPU cores\n",
      "\n",
      "   | Name                               | Type                            | Params\n",
      "----------------------------------------------------------------------------------------\n",
      "0  | loss                               | QuantileLoss                    | 0     \n",
      "1  | logging_metrics                    | ModuleList                      | 0     \n",
      "2  | input_embeddings                   | MultiEmbedding                  | 0     \n",
      "3  | prescalers                         | ModuleDict                      | 576   \n",
      "4  | static_variable_selection          | VariableSelectionNetwork        | 0     \n",
      "5  | encoder_variable_selection         | VariableSelectionNetwork        | 25.6 K\n",
      "6  | decoder_variable_selection         | VariableSelectionNetwork        | 528   \n",
      "7  | static_context_variable_selection  | GatedResidualNetwork            | 1.1 K \n",
      "8  | static_context_initial_hidden_lstm | GatedResidualNetwork            | 1.1 K \n",
      "9  | static_context_initial_cell_lstm   | GatedResidualNetwork            | 1.1 K \n",
      "10 | static_context_enrichment          | GatedResidualNetwork            | 1.1 K \n",
      "11 | lstm_encoder                       | LSTM                            | 4.4 K \n",
      "12 | lstm_decoder                       | LSTM                            | 4.4 K \n",
      "13 | post_lstm_gate_encoder             | GatedLinearUnit                 | 544   \n",
      "14 | post_lstm_add_norm_encoder         | AddNorm                         | 32    \n",
      "15 | static_enrichment                  | GatedResidualNetwork            | 1.4 K \n",
      "16 | multihead_attn                     | InterpretableMultiHeadAttention | 808   \n",
      "17 | post_attn_gate_norm                | GateAddNorm                     | 576   \n",
      "18 | pos_wise_ff                        | GatedResidualNetwork            | 1.1 K \n",
      "19 | pre_output_gate_norm               | GateAddNorm                     | 576   \n",
      "20 | output_layer                       | Linear                          | 17    \n",
      "----------------------------------------------------------------------------------------\n",
      "44.3 K    Trainable params\n",
      "0         Non-trainable params\n",
      "44.3 K    Total params\n",
      "0.177     Total estimated model params size (MB)\n"
     ]
    },
    {
     "data": {
      "application/vnd.jupyter.widget-view+json": {
       "model_id": "b2c959a67e264e8fb926d57959cbf1bd",
       "version_major": 2,
       "version_minor": 0
      },
      "text/plain": [
       "Training: 0it [00:00, ?it/s]"
      ]
     },
     "metadata": {},
     "output_type": "display_data"
    },
    {
     "data": {
      "application/vnd.jupyter.widget-view+json": {
       "model_id": "",
       "version_major": 2,
       "version_minor": 0
      },
      "text/plain": [
       "Validating: 0it [00:00, ?it/s]"
      ]
     },
     "metadata": {},
     "output_type": "display_data"
    },
    {
     "name": "stderr",
     "output_type": "stream",
     "text": [
      "GPU available: False, used: False\n",
      "TPU available: False, using: 0 TPU cores\n",
      "\n",
      "   | Name                               | Type                            | Params\n",
      "----------------------------------------------------------------------------------------\n",
      "0  | loss                               | QuantileLoss                    | 0     \n",
      "1  | logging_metrics                    | ModuleList                      | 0     \n",
      "2  | input_embeddings                   | MultiEmbedding                  | 0     \n",
      "3  | prescalers                         | ModuleDict                      | 576   \n",
      "4  | static_variable_selection          | VariableSelectionNetwork        | 0     \n",
      "5  | encoder_variable_selection         | VariableSelectionNetwork        | 25.6 K\n",
      "6  | decoder_variable_selection         | VariableSelectionNetwork        | 528   \n",
      "7  | static_context_variable_selection  | GatedResidualNetwork            | 1.1 K \n",
      "8  | static_context_initial_hidden_lstm | GatedResidualNetwork            | 1.1 K \n",
      "9  | static_context_initial_cell_lstm   | GatedResidualNetwork            | 1.1 K \n",
      "10 | static_context_enrichment          | GatedResidualNetwork            | 1.1 K \n",
      "11 | lstm_encoder                       | LSTM                            | 4.4 K \n",
      "12 | lstm_decoder                       | LSTM                            | 4.4 K \n",
      "13 | post_lstm_gate_encoder             | GatedLinearUnit                 | 544   \n",
      "14 | post_lstm_add_norm_encoder         | AddNorm                         | 32    \n",
      "15 | static_enrichment                  | GatedResidualNetwork            | 1.4 K \n",
      "16 | multihead_attn                     | InterpretableMultiHeadAttention | 808   \n",
      "17 | post_attn_gate_norm                | GateAddNorm                     | 576   \n",
      "18 | pos_wise_ff                        | GatedResidualNetwork            | 1.1 K \n",
      "19 | pre_output_gate_norm               | GateAddNorm                     | 576   \n",
      "20 | output_layer                       | Linear                          | 17    \n",
      "----------------------------------------------------------------------------------------\n",
      "44.3 K    Trainable params\n",
      "0         Non-trainable params\n",
      "44.3 K    Total params\n",
      "0.177     Total estimated model params size (MB)\n"
     ]
    },
    {
     "data": {
      "application/vnd.jupyter.widget-view+json": {
       "model_id": "ada223a108934c0cabd590b1b76fac16",
       "version_major": 2,
       "version_minor": 0
      },
      "text/plain": [
       "Training: 0it [00:00, ?it/s]"
      ]
     },
     "metadata": {},
     "output_type": "display_data"
    },
    {
     "data": {
      "application/vnd.jupyter.widget-view+json": {
       "model_id": "",
       "version_major": 2,
       "version_minor": 0
      },
      "text/plain": [
       "Validating: 0it [00:00, ?it/s]"
      ]
     },
     "metadata": {},
     "output_type": "display_data"
    },
    {
     "name": "stderr",
     "output_type": "stream",
     "text": [
      "GPU available: False, used: False\n",
      "TPU available: False, using: 0 TPU cores\n",
      "\n",
      "   | Name                               | Type                            | Params\n",
      "----------------------------------------------------------------------------------------\n",
      "0  | loss                               | QuantileLoss                    | 0     \n",
      "1  | logging_metrics                    | ModuleList                      | 0     \n",
      "2  | input_embeddings                   | MultiEmbedding                  | 0     \n",
      "3  | prescalers                         | ModuleDict                      | 576   \n",
      "4  | static_variable_selection          | VariableSelectionNetwork        | 0     \n",
      "5  | encoder_variable_selection         | VariableSelectionNetwork        | 25.6 K\n",
      "6  | decoder_variable_selection         | VariableSelectionNetwork        | 528   \n",
      "7  | static_context_variable_selection  | GatedResidualNetwork            | 1.1 K \n",
      "8  | static_context_initial_hidden_lstm | GatedResidualNetwork            | 1.1 K \n",
      "9  | static_context_initial_cell_lstm   | GatedResidualNetwork            | 1.1 K \n",
      "10 | static_context_enrichment          | GatedResidualNetwork            | 1.1 K \n",
      "11 | lstm_encoder                       | LSTM                            | 4.4 K \n",
      "12 | lstm_decoder                       | LSTM                            | 4.4 K \n",
      "13 | post_lstm_gate_encoder             | GatedLinearUnit                 | 544   \n",
      "14 | post_lstm_add_norm_encoder         | AddNorm                         | 32    \n",
      "15 | static_enrichment                  | GatedResidualNetwork            | 1.4 K \n",
      "16 | multihead_attn                     | InterpretableMultiHeadAttention | 808   \n",
      "17 | post_attn_gate_norm                | GateAddNorm                     | 576   \n",
      "18 | pos_wise_ff                        | GatedResidualNetwork            | 1.1 K \n",
      "19 | pre_output_gate_norm               | GateAddNorm                     | 576   \n",
      "20 | output_layer                       | Linear                          | 17    \n",
      "----------------------------------------------------------------------------------------\n",
      "44.3 K    Trainable params\n",
      "0         Non-trainable params\n",
      "44.3 K    Total params\n",
      "0.177     Total estimated model params size (MB)\n"
     ]
    },
    {
     "data": {
      "application/vnd.jupyter.widget-view+json": {
       "model_id": "8b9777c210d340f99e19fc91a8b827f5",
       "version_major": 2,
       "version_minor": 0
      },
      "text/plain": [
       "Training: 0it [00:00, ?it/s]"
      ]
     },
     "metadata": {},
     "output_type": "display_data"
    },
    {
     "data": {
      "application/vnd.jupyter.widget-view+json": {
       "model_id": "",
       "version_major": 2,
       "version_minor": 0
      },
      "text/plain": [
       "Validating: 0it [00:00, ?it/s]"
      ]
     },
     "metadata": {},
     "output_type": "display_data"
    },
    {
     "name": "stderr",
     "output_type": "stream",
     "text": [
      "GPU available: False, used: False\n",
      "TPU available: False, using: 0 TPU cores\n",
      "\n",
      "   | Name                               | Type                            | Params\n",
      "----------------------------------------------------------------------------------------\n",
      "0  | loss                               | QuantileLoss                    | 0     \n",
      "1  | logging_metrics                    | ModuleList                      | 0     \n",
      "2  | input_embeddings                   | MultiEmbedding                  | 0     \n",
      "3  | prescalers                         | ModuleDict                      | 576   \n",
      "4  | static_variable_selection          | VariableSelectionNetwork        | 0     \n",
      "5  | encoder_variable_selection         | VariableSelectionNetwork        | 25.6 K\n",
      "6  | decoder_variable_selection         | VariableSelectionNetwork        | 528   \n",
      "7  | static_context_variable_selection  | GatedResidualNetwork            | 1.1 K \n",
      "8  | static_context_initial_hidden_lstm | GatedResidualNetwork            | 1.1 K \n",
      "9  | static_context_initial_cell_lstm   | GatedResidualNetwork            | 1.1 K \n",
      "10 | static_context_enrichment          | GatedResidualNetwork            | 1.1 K \n",
      "11 | lstm_encoder                       | LSTM                            | 4.4 K \n",
      "12 | lstm_decoder                       | LSTM                            | 4.4 K \n",
      "13 | post_lstm_gate_encoder             | GatedLinearUnit                 | 544   \n",
      "14 | post_lstm_add_norm_encoder         | AddNorm                         | 32    \n",
      "15 | static_enrichment                  | GatedResidualNetwork            | 1.4 K \n",
      "16 | multihead_attn                     | InterpretableMultiHeadAttention | 808   \n",
      "17 | post_attn_gate_norm                | GateAddNorm                     | 576   \n",
      "18 | pos_wise_ff                        | GatedResidualNetwork            | 1.1 K \n",
      "19 | pre_output_gate_norm               | GateAddNorm                     | 576   \n",
      "20 | output_layer                       | Linear                          | 17    \n",
      "----------------------------------------------------------------------------------------\n",
      "44.3 K    Trainable params\n",
      "0         Non-trainable params\n",
      "44.3 K    Total params\n",
      "0.177     Total estimated model params size (MB)\n"
     ]
    },
    {
     "data": {
      "application/vnd.jupyter.widget-view+json": {
       "model_id": "66ae21c003f24bcf9a8bd7bcf2141d73",
       "version_major": 2,
       "version_minor": 0
      },
      "text/plain": [
       "Training: 0it [00:00, ?it/s]"
      ]
     },
     "metadata": {},
     "output_type": "display_data"
    },
    {
     "data": {
      "application/vnd.jupyter.widget-view+json": {
       "model_id": "",
       "version_major": 2,
       "version_minor": 0
      },
      "text/plain": [
       "Validating: 0it [00:00, ?it/s]"
      ]
     },
     "metadata": {},
     "output_type": "display_data"
    },
    {
     "name": "stderr",
     "output_type": "stream",
     "text": [
      "GPU available: False, used: False\n",
      "TPU available: False, using: 0 TPU cores\n",
      "\n",
      "   | Name                               | Type                            | Params\n",
      "----------------------------------------------------------------------------------------\n",
      "0  | loss                               | QuantileLoss                    | 0     \n",
      "1  | logging_metrics                    | ModuleList                      | 0     \n",
      "2  | input_embeddings                   | MultiEmbedding                  | 0     \n",
      "3  | prescalers                         | ModuleDict                      | 576   \n",
      "4  | static_variable_selection          | VariableSelectionNetwork        | 0     \n",
      "5  | encoder_variable_selection         | VariableSelectionNetwork        | 25.6 K\n",
      "6  | decoder_variable_selection         | VariableSelectionNetwork        | 528   \n",
      "7  | static_context_variable_selection  | GatedResidualNetwork            | 1.1 K \n",
      "8  | static_context_initial_hidden_lstm | GatedResidualNetwork            | 1.1 K \n",
      "9  | static_context_initial_cell_lstm   | GatedResidualNetwork            | 1.1 K \n",
      "10 | static_context_enrichment          | GatedResidualNetwork            | 1.1 K \n",
      "11 | lstm_encoder                       | LSTM                            | 4.4 K \n",
      "12 | lstm_decoder                       | LSTM                            | 4.4 K \n",
      "13 | post_lstm_gate_encoder             | GatedLinearUnit                 | 544   \n",
      "14 | post_lstm_add_norm_encoder         | AddNorm                         | 32    \n",
      "15 | static_enrichment                  | GatedResidualNetwork            | 1.4 K \n",
      "16 | multihead_attn                     | InterpretableMultiHeadAttention | 808   \n",
      "17 | post_attn_gate_norm                | GateAddNorm                     | 576   \n",
      "18 | pos_wise_ff                        | GatedResidualNetwork            | 1.1 K \n",
      "19 | pre_output_gate_norm               | GateAddNorm                     | 576   \n",
      "20 | output_layer                       | Linear                          | 17    \n",
      "----------------------------------------------------------------------------------------\n",
      "44.3 K    Trainable params\n",
      "0         Non-trainable params\n",
      "44.3 K    Total params\n",
      "0.177     Total estimated model params size (MB)\n"
     ]
    },
    {
     "data": {
      "application/vnd.jupyter.widget-view+json": {
       "model_id": "066e811c15934ae68c1bc8a6e47cb23a",
       "version_major": 2,
       "version_minor": 0
      },
      "text/plain": [
       "Training: 0it [00:00, ?it/s]"
      ]
     },
     "metadata": {},
     "output_type": "display_data"
    },
    {
     "data": {
      "application/vnd.jupyter.widget-view+json": {
       "model_id": "",
       "version_major": 2,
       "version_minor": 0
      },
      "text/plain": [
       "Validating: 0it [00:00, ?it/s]"
      ]
     },
     "metadata": {},
     "output_type": "display_data"
    },
    {
     "name": "stderr",
     "output_type": "stream",
     "text": [
      "GPU available: False, used: False\n",
      "TPU available: False, using: 0 TPU cores\n",
      "\n",
      "   | Name                               | Type                            | Params\n",
      "----------------------------------------------------------------------------------------\n",
      "0  | loss                               | QuantileLoss                    | 0     \n",
      "1  | logging_metrics                    | ModuleList                      | 0     \n",
      "2  | input_embeddings                   | MultiEmbedding                  | 0     \n",
      "3  | prescalers                         | ModuleDict                      | 576   \n",
      "4  | static_variable_selection          | VariableSelectionNetwork        | 0     \n",
      "5  | encoder_variable_selection         | VariableSelectionNetwork        | 25.6 K\n",
      "6  | decoder_variable_selection         | VariableSelectionNetwork        | 528   \n",
      "7  | static_context_variable_selection  | GatedResidualNetwork            | 1.1 K \n",
      "8  | static_context_initial_hidden_lstm | GatedResidualNetwork            | 1.1 K \n",
      "9  | static_context_initial_cell_lstm   | GatedResidualNetwork            | 1.1 K \n",
      "10 | static_context_enrichment          | GatedResidualNetwork            | 1.1 K \n",
      "11 | lstm_encoder                       | LSTM                            | 4.4 K \n",
      "12 | lstm_decoder                       | LSTM                            | 4.4 K \n",
      "13 | post_lstm_gate_encoder             | GatedLinearUnit                 | 544   \n",
      "14 | post_lstm_add_norm_encoder         | AddNorm                         | 32    \n",
      "15 | static_enrichment                  | GatedResidualNetwork            | 1.4 K \n",
      "16 | multihead_attn                     | InterpretableMultiHeadAttention | 808   \n",
      "17 | post_attn_gate_norm                | GateAddNorm                     | 576   \n",
      "18 | pos_wise_ff                        | GatedResidualNetwork            | 1.1 K \n",
      "19 | pre_output_gate_norm               | GateAddNorm                     | 576   \n",
      "20 | output_layer                       | Linear                          | 17    \n",
      "----------------------------------------------------------------------------------------\n",
      "44.3 K    Trainable params\n",
      "0         Non-trainable params\n",
      "44.3 K    Total params\n",
      "0.177     Total estimated model params size (MB)\n"
     ]
    },
    {
     "data": {
      "application/vnd.jupyter.widget-view+json": {
       "model_id": "463159625a494e1a8f6cb79a2c971d76",
       "version_major": 2,
       "version_minor": 0
      },
      "text/plain": [
       "Training: 0it [00:00, ?it/s]"
      ]
     },
     "metadata": {},
     "output_type": "display_data"
    },
    {
     "data": {
      "application/vnd.jupyter.widget-view+json": {
       "model_id": "",
       "version_major": 2,
       "version_minor": 0
      },
      "text/plain": [
       "Validating: 0it [00:00, ?it/s]"
      ]
     },
     "metadata": {},
     "output_type": "display_data"
    },
    {
     "name": "stderr",
     "output_type": "stream",
     "text": [
      "GPU available: False, used: False\n",
      "TPU available: False, using: 0 TPU cores\n",
      "\n",
      "   | Name                               | Type                            | Params\n",
      "----------------------------------------------------------------------------------------\n",
      "0  | loss                               | QuantileLoss                    | 0     \n",
      "1  | logging_metrics                    | ModuleList                      | 0     \n",
      "2  | input_embeddings                   | MultiEmbedding                  | 0     \n",
      "3  | prescalers                         | ModuleDict                      | 576   \n",
      "4  | static_variable_selection          | VariableSelectionNetwork        | 0     \n",
      "5  | encoder_variable_selection         | VariableSelectionNetwork        | 25.6 K\n",
      "6  | decoder_variable_selection         | VariableSelectionNetwork        | 528   \n",
      "7  | static_context_variable_selection  | GatedResidualNetwork            | 1.1 K \n",
      "8  | static_context_initial_hidden_lstm | GatedResidualNetwork            | 1.1 K \n",
      "9  | static_context_initial_cell_lstm   | GatedResidualNetwork            | 1.1 K \n",
      "10 | static_context_enrichment          | GatedResidualNetwork            | 1.1 K \n",
      "11 | lstm_encoder                       | LSTM                            | 4.4 K \n",
      "12 | lstm_decoder                       | LSTM                            | 4.4 K \n",
      "13 | post_lstm_gate_encoder             | GatedLinearUnit                 | 544   \n",
      "14 | post_lstm_add_norm_encoder         | AddNorm                         | 32    \n",
      "15 | static_enrichment                  | GatedResidualNetwork            | 1.4 K \n",
      "16 | multihead_attn                     | InterpretableMultiHeadAttention | 808   \n",
      "17 | post_attn_gate_norm                | GateAddNorm                     | 576   \n",
      "18 | pos_wise_ff                        | GatedResidualNetwork            | 1.1 K \n",
      "19 | pre_output_gate_norm               | GateAddNorm                     | 576   \n",
      "20 | output_layer                       | Linear                          | 17    \n",
      "----------------------------------------------------------------------------------------\n",
      "44.3 K    Trainable params\n",
      "0         Non-trainable params\n",
      "44.3 K    Total params\n",
      "0.177     Total estimated model params size (MB)\n"
     ]
    },
    {
     "data": {
      "application/vnd.jupyter.widget-view+json": {
       "model_id": "c32f8f3923c04be795023eae98cc67f1",
       "version_major": 2,
       "version_minor": 0
      },
      "text/plain": [
       "Training: 0it [00:00, ?it/s]"
      ]
     },
     "metadata": {},
     "output_type": "display_data"
    },
    {
     "data": {
      "application/vnd.jupyter.widget-view+json": {
       "model_id": "",
       "version_major": 2,
       "version_minor": 0
      },
      "text/plain": [
       "Validating: 0it [00:00, ?it/s]"
      ]
     },
     "metadata": {},
     "output_type": "display_data"
    },
    {
     "name": "stderr",
     "output_type": "stream",
     "text": [
      "GPU available: False, used: False\n",
      "TPU available: False, using: 0 TPU cores\n",
      "\n",
      "   | Name                               | Type                            | Params\n",
      "----------------------------------------------------------------------------------------\n",
      "0  | loss                               | QuantileLoss                    | 0     \n",
      "1  | logging_metrics                    | ModuleList                      | 0     \n",
      "2  | input_embeddings                   | MultiEmbedding                  | 0     \n",
      "3  | prescalers                         | ModuleDict                      | 576   \n",
      "4  | static_variable_selection          | VariableSelectionNetwork        | 0     \n",
      "5  | encoder_variable_selection         | VariableSelectionNetwork        | 25.6 K\n",
      "6  | decoder_variable_selection         | VariableSelectionNetwork        | 528   \n",
      "7  | static_context_variable_selection  | GatedResidualNetwork            | 1.1 K \n",
      "8  | static_context_initial_hidden_lstm | GatedResidualNetwork            | 1.1 K \n",
      "9  | static_context_initial_cell_lstm   | GatedResidualNetwork            | 1.1 K \n",
      "10 | static_context_enrichment          | GatedResidualNetwork            | 1.1 K \n",
      "11 | lstm_encoder                       | LSTM                            | 4.4 K \n",
      "12 | lstm_decoder                       | LSTM                            | 4.4 K \n",
      "13 | post_lstm_gate_encoder             | GatedLinearUnit                 | 544   \n",
      "14 | post_lstm_add_norm_encoder         | AddNorm                         | 32    \n",
      "15 | static_enrichment                  | GatedResidualNetwork            | 1.4 K \n",
      "16 | multihead_attn                     | InterpretableMultiHeadAttention | 808   \n",
      "17 | post_attn_gate_norm                | GateAddNorm                     | 576   \n",
      "18 | pos_wise_ff                        | GatedResidualNetwork            | 1.1 K \n",
      "19 | pre_output_gate_norm               | GateAddNorm                     | 576   \n",
      "20 | output_layer                       | Linear                          | 17    \n",
      "----------------------------------------------------------------------------------------\n",
      "44.3 K    Trainable params\n",
      "0         Non-trainable params\n",
      "44.3 K    Total params\n",
      "0.177     Total estimated model params size (MB)\n"
     ]
    },
    {
     "data": {
      "application/vnd.jupyter.widget-view+json": {
       "model_id": "5052fdf3872e4d0ab16c50a84cd7890c",
       "version_major": 2,
       "version_minor": 0
      },
      "text/plain": [
       "Training: 0it [00:00, ?it/s]"
      ]
     },
     "metadata": {},
     "output_type": "display_data"
    },
    {
     "data": {
      "application/vnd.jupyter.widget-view+json": {
       "model_id": "",
       "version_major": 2,
       "version_minor": 0
      },
      "text/plain": [
       "Validating: 0it [00:00, ?it/s]"
      ]
     },
     "metadata": {},
     "output_type": "display_data"
    },
    {
     "name": "stderr",
     "output_type": "stream",
     "text": [
      "GPU available: False, used: False\n",
      "TPU available: False, using: 0 TPU cores\n",
      "\n",
      "   | Name                               | Type                            | Params\n",
      "----------------------------------------------------------------------------------------\n",
      "0  | loss                               | QuantileLoss                    | 0     \n",
      "1  | logging_metrics                    | ModuleList                      | 0     \n",
      "2  | input_embeddings                   | MultiEmbedding                  | 0     \n",
      "3  | prescalers                         | ModuleDict                      | 576   \n",
      "4  | static_variable_selection          | VariableSelectionNetwork        | 0     \n",
      "5  | encoder_variable_selection         | VariableSelectionNetwork        | 25.6 K\n",
      "6  | decoder_variable_selection         | VariableSelectionNetwork        | 528   \n",
      "7  | static_context_variable_selection  | GatedResidualNetwork            | 1.1 K \n",
      "8  | static_context_initial_hidden_lstm | GatedResidualNetwork            | 1.1 K \n",
      "9  | static_context_initial_cell_lstm   | GatedResidualNetwork            | 1.1 K \n",
      "10 | static_context_enrichment          | GatedResidualNetwork            | 1.1 K \n",
      "11 | lstm_encoder                       | LSTM                            | 4.4 K \n",
      "12 | lstm_decoder                       | LSTM                            | 4.4 K \n",
      "13 | post_lstm_gate_encoder             | GatedLinearUnit                 | 544   \n",
      "14 | post_lstm_add_norm_encoder         | AddNorm                         | 32    \n",
      "15 | static_enrichment                  | GatedResidualNetwork            | 1.4 K \n",
      "16 | multihead_attn                     | InterpretableMultiHeadAttention | 808   \n",
      "17 | post_attn_gate_norm                | GateAddNorm                     | 576   \n",
      "18 | pos_wise_ff                        | GatedResidualNetwork            | 1.1 K \n",
      "19 | pre_output_gate_norm               | GateAddNorm                     | 576   \n",
      "20 | output_layer                       | Linear                          | 17    \n",
      "----------------------------------------------------------------------------------------\n",
      "44.3 K    Trainable params\n",
      "0         Non-trainable params\n",
      "44.3 K    Total params\n",
      "0.177     Total estimated model params size (MB)\n"
     ]
    },
    {
     "data": {
      "application/vnd.jupyter.widget-view+json": {
       "model_id": "613b562e93f64eff97c341389db6f4af",
       "version_major": 2,
       "version_minor": 0
      },
      "text/plain": [
       "Training: 0it [00:00, ?it/s]"
      ]
     },
     "metadata": {},
     "output_type": "display_data"
    },
    {
     "data": {
      "application/vnd.jupyter.widget-view+json": {
       "model_id": "",
       "version_major": 2,
       "version_minor": 0
      },
      "text/plain": [
       "Validating: 0it [00:00, ?it/s]"
      ]
     },
     "metadata": {},
     "output_type": "display_data"
    },
    {
     "name": "stderr",
     "output_type": "stream",
     "text": [
      "GPU available: False, used: False\n",
      "TPU available: False, using: 0 TPU cores\n",
      "\n",
      "   | Name                               | Type                            | Params\n",
      "----------------------------------------------------------------------------------------\n",
      "0  | loss                               | QuantileLoss                    | 0     \n",
      "1  | logging_metrics                    | ModuleList                      | 0     \n",
      "2  | input_embeddings                   | MultiEmbedding                  | 0     \n",
      "3  | prescalers                         | ModuleDict                      | 576   \n",
      "4  | static_variable_selection          | VariableSelectionNetwork        | 0     \n",
      "5  | encoder_variable_selection         | VariableSelectionNetwork        | 25.6 K\n",
      "6  | decoder_variable_selection         | VariableSelectionNetwork        | 528   \n",
      "7  | static_context_variable_selection  | GatedResidualNetwork            | 1.1 K \n",
      "8  | static_context_initial_hidden_lstm | GatedResidualNetwork            | 1.1 K \n",
      "9  | static_context_initial_cell_lstm   | GatedResidualNetwork            | 1.1 K \n",
      "10 | static_context_enrichment          | GatedResidualNetwork            | 1.1 K \n",
      "11 | lstm_encoder                       | LSTM                            | 4.4 K \n",
      "12 | lstm_decoder                       | LSTM                            | 4.4 K \n",
      "13 | post_lstm_gate_encoder             | GatedLinearUnit                 | 544   \n",
      "14 | post_lstm_add_norm_encoder         | AddNorm                         | 32    \n",
      "15 | static_enrichment                  | GatedResidualNetwork            | 1.4 K \n",
      "16 | multihead_attn                     | InterpretableMultiHeadAttention | 808   \n",
      "17 | post_attn_gate_norm                | GateAddNorm                     | 576   \n",
      "18 | pos_wise_ff                        | GatedResidualNetwork            | 1.1 K \n",
      "19 | pre_output_gate_norm               | GateAddNorm                     | 576   \n",
      "20 | output_layer                       | Linear                          | 17    \n",
      "----------------------------------------------------------------------------------------\n",
      "44.3 K    Trainable params\n",
      "0         Non-trainable params\n",
      "44.3 K    Total params\n",
      "0.177     Total estimated model params size (MB)\n"
     ]
    },
    {
     "data": {
      "application/vnd.jupyter.widget-view+json": {
       "model_id": "5a4a78c6820e45ffaa1e9d0abe0cb0f1",
       "version_major": 2,
       "version_minor": 0
      },
      "text/plain": [
       "Training: 0it [00:00, ?it/s]"
      ]
     },
     "metadata": {},
     "output_type": "display_data"
    },
    {
     "data": {
      "application/vnd.jupyter.widget-view+json": {
       "model_id": "",
       "version_major": 2,
       "version_minor": 0
      },
      "text/plain": [
       "Validating: 0it [00:00, ?it/s]"
      ]
     },
     "metadata": {},
     "output_type": "display_data"
    },
    {
     "name": "stderr",
     "output_type": "stream",
     "text": [
      "GPU available: False, used: False\n",
      "TPU available: False, using: 0 TPU cores\n",
      "\n",
      "   | Name                               | Type                            | Params\n",
      "----------------------------------------------------------------------------------------\n",
      "0  | loss                               | QuantileLoss                    | 0     \n",
      "1  | logging_metrics                    | ModuleList                      | 0     \n",
      "2  | input_embeddings                   | MultiEmbedding                  | 0     \n",
      "3  | prescalers                         | ModuleDict                      | 576   \n",
      "4  | static_variable_selection          | VariableSelectionNetwork        | 0     \n",
      "5  | encoder_variable_selection         | VariableSelectionNetwork        | 25.6 K\n",
      "6  | decoder_variable_selection         | VariableSelectionNetwork        | 528   \n",
      "7  | static_context_variable_selection  | GatedResidualNetwork            | 1.1 K \n",
      "8  | static_context_initial_hidden_lstm | GatedResidualNetwork            | 1.1 K \n",
      "9  | static_context_initial_cell_lstm   | GatedResidualNetwork            | 1.1 K \n",
      "10 | static_context_enrichment          | GatedResidualNetwork            | 1.1 K \n",
      "11 | lstm_encoder                       | LSTM                            | 4.4 K \n",
      "12 | lstm_decoder                       | LSTM                            | 4.4 K \n",
      "13 | post_lstm_gate_encoder             | GatedLinearUnit                 | 544   \n",
      "14 | post_lstm_add_norm_encoder         | AddNorm                         | 32    \n",
      "15 | static_enrichment                  | GatedResidualNetwork            | 1.4 K \n",
      "16 | multihead_attn                     | InterpretableMultiHeadAttention | 808   \n",
      "17 | post_attn_gate_norm                | GateAddNorm                     | 576   \n",
      "18 | pos_wise_ff                        | GatedResidualNetwork            | 1.1 K \n",
      "19 | pre_output_gate_norm               | GateAddNorm                     | 576   \n",
      "20 | output_layer                       | Linear                          | 17    \n",
      "----------------------------------------------------------------------------------------\n",
      "44.3 K    Trainable params\n",
      "0         Non-trainable params\n",
      "44.3 K    Total params\n",
      "0.177     Total estimated model params size (MB)\n"
     ]
    },
    {
     "data": {
      "application/vnd.jupyter.widget-view+json": {
       "model_id": "b8c42543535f403db267f340249b3447",
       "version_major": 2,
       "version_minor": 0
      },
      "text/plain": [
       "Training: 0it [00:00, ?it/s]"
      ]
     },
     "metadata": {},
     "output_type": "display_data"
    },
    {
     "data": {
      "application/vnd.jupyter.widget-view+json": {
       "model_id": "",
       "version_major": 2,
       "version_minor": 0
      },
      "text/plain": [
       "Validating: 0it [00:00, ?it/s]"
      ]
     },
     "metadata": {},
     "output_type": "display_data"
    },
    {
     "name": "stderr",
     "output_type": "stream",
     "text": [
      "GPU available: False, used: False\n",
      "TPU available: False, using: 0 TPU cores\n",
      "\n",
      "   | Name                               | Type                            | Params\n",
      "----------------------------------------------------------------------------------------\n",
      "0  | loss                               | QuantileLoss                    | 0     \n",
      "1  | logging_metrics                    | ModuleList                      | 0     \n",
      "2  | input_embeddings                   | MultiEmbedding                  | 0     \n",
      "3  | prescalers                         | ModuleDict                      | 576   \n",
      "4  | static_variable_selection          | VariableSelectionNetwork        | 0     \n",
      "5  | encoder_variable_selection         | VariableSelectionNetwork        | 25.6 K\n",
      "6  | decoder_variable_selection         | VariableSelectionNetwork        | 528   \n",
      "7  | static_context_variable_selection  | GatedResidualNetwork            | 1.1 K \n",
      "8  | static_context_initial_hidden_lstm | GatedResidualNetwork            | 1.1 K \n",
      "9  | static_context_initial_cell_lstm   | GatedResidualNetwork            | 1.1 K \n",
      "10 | static_context_enrichment          | GatedResidualNetwork            | 1.1 K \n",
      "11 | lstm_encoder                       | LSTM                            | 4.4 K \n",
      "12 | lstm_decoder                       | LSTM                            | 4.4 K \n",
      "13 | post_lstm_gate_encoder             | GatedLinearUnit                 | 544   \n",
      "14 | post_lstm_add_norm_encoder         | AddNorm                         | 32    \n",
      "15 | static_enrichment                  | GatedResidualNetwork            | 1.4 K \n",
      "16 | multihead_attn                     | InterpretableMultiHeadAttention | 808   \n",
      "17 | post_attn_gate_norm                | GateAddNorm                     | 576   \n",
      "18 | pos_wise_ff                        | GatedResidualNetwork            | 1.1 K \n",
      "19 | pre_output_gate_norm               | GateAddNorm                     | 576   \n",
      "20 | output_layer                       | Linear                          | 17    \n",
      "----------------------------------------------------------------------------------------\n",
      "44.3 K    Trainable params\n",
      "0         Non-trainable params\n",
      "44.3 K    Total params\n",
      "0.177     Total estimated model params size (MB)\n"
     ]
    },
    {
     "data": {
      "application/vnd.jupyter.widget-view+json": {
       "model_id": "5dbaead8abd74208a3b0283b6ddd9f51",
       "version_major": 2,
       "version_minor": 0
      },
      "text/plain": [
       "Training: 0it [00:00, ?it/s]"
      ]
     },
     "metadata": {},
     "output_type": "display_data"
    },
    {
     "data": {
      "application/vnd.jupyter.widget-view+json": {
       "model_id": "",
       "version_major": 2,
       "version_minor": 0
      },
      "text/plain": [
       "Validating: 0it [00:00, ?it/s]"
      ]
     },
     "metadata": {},
     "output_type": "display_data"
    },
    {
     "name": "stderr",
     "output_type": "stream",
     "text": [
      "GPU available: False, used: False\n",
      "TPU available: False, using: 0 TPU cores\n",
      "\n",
      "   | Name                               | Type                            | Params\n",
      "----------------------------------------------------------------------------------------\n",
      "0  | loss                               | QuantileLoss                    | 0     \n",
      "1  | logging_metrics                    | ModuleList                      | 0     \n",
      "2  | input_embeddings                   | MultiEmbedding                  | 0     \n",
      "3  | prescalers                         | ModuleDict                      | 576   \n",
      "4  | static_variable_selection          | VariableSelectionNetwork        | 0     \n",
      "5  | encoder_variable_selection         | VariableSelectionNetwork        | 25.6 K\n",
      "6  | decoder_variable_selection         | VariableSelectionNetwork        | 528   \n",
      "7  | static_context_variable_selection  | GatedResidualNetwork            | 1.1 K \n",
      "8  | static_context_initial_hidden_lstm | GatedResidualNetwork            | 1.1 K \n",
      "9  | static_context_initial_cell_lstm   | GatedResidualNetwork            | 1.1 K \n",
      "10 | static_context_enrichment          | GatedResidualNetwork            | 1.1 K \n",
      "11 | lstm_encoder                       | LSTM                            | 4.4 K \n",
      "12 | lstm_decoder                       | LSTM                            | 4.4 K \n",
      "13 | post_lstm_gate_encoder             | GatedLinearUnit                 | 544   \n",
      "14 | post_lstm_add_norm_encoder         | AddNorm                         | 32    \n",
      "15 | static_enrichment                  | GatedResidualNetwork            | 1.4 K \n",
      "16 | multihead_attn                     | InterpretableMultiHeadAttention | 808   \n",
      "17 | post_attn_gate_norm                | GateAddNorm                     | 576   \n",
      "18 | pos_wise_ff                        | GatedResidualNetwork            | 1.1 K \n",
      "19 | pre_output_gate_norm               | GateAddNorm                     | 576   \n",
      "20 | output_layer                       | Linear                          | 17    \n",
      "----------------------------------------------------------------------------------------\n",
      "44.3 K    Trainable params\n",
      "0         Non-trainable params\n",
      "44.3 K    Total params\n",
      "0.177     Total estimated model params size (MB)\n"
     ]
    },
    {
     "data": {
      "application/vnd.jupyter.widget-view+json": {
       "model_id": "c4d25a2580c646e48cf9688111b47b49",
       "version_major": 2,
       "version_minor": 0
      },
      "text/plain": [
       "Training: 0it [00:00, ?it/s]"
      ]
     },
     "metadata": {},
     "output_type": "display_data"
    },
    {
     "data": {
      "application/vnd.jupyter.widget-view+json": {
       "model_id": "",
       "version_major": 2,
       "version_minor": 0
      },
      "text/plain": [
       "Validating: 0it [00:00, ?it/s]"
      ]
     },
     "metadata": {},
     "output_type": "display_data"
    },
    {
     "name": "stderr",
     "output_type": "stream",
     "text": [
      "GPU available: False, used: False\n",
      "TPU available: False, using: 0 TPU cores\n",
      "\n",
      "   | Name                               | Type                            | Params\n",
      "----------------------------------------------------------------------------------------\n",
      "0  | loss                               | QuantileLoss                    | 0     \n",
      "1  | logging_metrics                    | ModuleList                      | 0     \n",
      "2  | input_embeddings                   | MultiEmbedding                  | 0     \n",
      "3  | prescalers                         | ModuleDict                      | 576   \n",
      "4  | static_variable_selection          | VariableSelectionNetwork        | 0     \n",
      "5  | encoder_variable_selection         | VariableSelectionNetwork        | 25.6 K\n",
      "6  | decoder_variable_selection         | VariableSelectionNetwork        | 528   \n",
      "7  | static_context_variable_selection  | GatedResidualNetwork            | 1.1 K \n",
      "8  | static_context_initial_hidden_lstm | GatedResidualNetwork            | 1.1 K \n",
      "9  | static_context_initial_cell_lstm   | GatedResidualNetwork            | 1.1 K \n",
      "10 | static_context_enrichment          | GatedResidualNetwork            | 1.1 K \n",
      "11 | lstm_encoder                       | LSTM                            | 4.4 K \n",
      "12 | lstm_decoder                       | LSTM                            | 4.4 K \n",
      "13 | post_lstm_gate_encoder             | GatedLinearUnit                 | 544   \n",
      "14 | post_lstm_add_norm_encoder         | AddNorm                         | 32    \n",
      "15 | static_enrichment                  | GatedResidualNetwork            | 1.4 K \n",
      "16 | multihead_attn                     | InterpretableMultiHeadAttention | 808   \n",
      "17 | post_attn_gate_norm                | GateAddNorm                     | 576   \n",
      "18 | pos_wise_ff                        | GatedResidualNetwork            | 1.1 K \n",
      "19 | pre_output_gate_norm               | GateAddNorm                     | 576   \n",
      "20 | output_layer                       | Linear                          | 17    \n",
      "----------------------------------------------------------------------------------------\n",
      "44.3 K    Trainable params\n",
      "0         Non-trainable params\n",
      "44.3 K    Total params\n",
      "0.177     Total estimated model params size (MB)\n"
     ]
    },
    {
     "data": {
      "application/vnd.jupyter.widget-view+json": {
       "model_id": "042f51206f234349950d8500dca4f680",
       "version_major": 2,
       "version_minor": 0
      },
      "text/plain": [
       "Training: 0it [00:00, ?it/s]"
      ]
     },
     "metadata": {},
     "output_type": "display_data"
    },
    {
     "data": {
      "application/vnd.jupyter.widget-view+json": {
       "model_id": "",
       "version_major": 2,
       "version_minor": 0
      },
      "text/plain": [
       "Validating: 0it [00:00, ?it/s]"
      ]
     },
     "metadata": {},
     "output_type": "display_data"
    },
    {
     "name": "stderr",
     "output_type": "stream",
     "text": [
      "GPU available: False, used: False\n",
      "TPU available: False, using: 0 TPU cores\n",
      "\n",
      "   | Name                               | Type                            | Params\n",
      "----------------------------------------------------------------------------------------\n",
      "0  | loss                               | QuantileLoss                    | 0     \n",
      "1  | logging_metrics                    | ModuleList                      | 0     \n",
      "2  | input_embeddings                   | MultiEmbedding                  | 0     \n",
      "3  | prescalers                         | ModuleDict                      | 576   \n",
      "4  | static_variable_selection          | VariableSelectionNetwork        | 0     \n",
      "5  | encoder_variable_selection         | VariableSelectionNetwork        | 25.6 K\n",
      "6  | decoder_variable_selection         | VariableSelectionNetwork        | 528   \n",
      "7  | static_context_variable_selection  | GatedResidualNetwork            | 1.1 K \n",
      "8  | static_context_initial_hidden_lstm | GatedResidualNetwork            | 1.1 K \n",
      "9  | static_context_initial_cell_lstm   | GatedResidualNetwork            | 1.1 K \n",
      "10 | static_context_enrichment          | GatedResidualNetwork            | 1.1 K \n",
      "11 | lstm_encoder                       | LSTM                            | 4.4 K \n",
      "12 | lstm_decoder                       | LSTM                            | 4.4 K \n",
      "13 | post_lstm_gate_encoder             | GatedLinearUnit                 | 544   \n",
      "14 | post_lstm_add_norm_encoder         | AddNorm                         | 32    \n",
      "15 | static_enrichment                  | GatedResidualNetwork            | 1.4 K \n",
      "16 | multihead_attn                     | InterpretableMultiHeadAttention | 808   \n",
      "17 | post_attn_gate_norm                | GateAddNorm                     | 576   \n",
      "18 | pos_wise_ff                        | GatedResidualNetwork            | 1.1 K \n",
      "19 | pre_output_gate_norm               | GateAddNorm                     | 576   \n",
      "20 | output_layer                       | Linear                          | 17    \n",
      "----------------------------------------------------------------------------------------\n",
      "44.3 K    Trainable params\n",
      "0         Non-trainable params\n",
      "44.3 K    Total params\n",
      "0.177     Total estimated model params size (MB)\n"
     ]
    },
    {
     "data": {
      "application/vnd.jupyter.widget-view+json": {
       "model_id": "5b5cef13933f41e28dd0e474567ee213",
       "version_major": 2,
       "version_minor": 0
      },
      "text/plain": [
       "Training: 0it [00:00, ?it/s]"
      ]
     },
     "metadata": {},
     "output_type": "display_data"
    },
    {
     "data": {
      "application/vnd.jupyter.widget-view+json": {
       "model_id": "",
       "version_major": 2,
       "version_minor": 0
      },
      "text/plain": [
       "Validating: 0it [00:00, ?it/s]"
      ]
     },
     "metadata": {},
     "output_type": "display_data"
    },
    {
     "name": "stderr",
     "output_type": "stream",
     "text": [
      "GPU available: False, used: False\n",
      "TPU available: False, using: 0 TPU cores\n",
      "\n",
      "   | Name                               | Type                            | Params\n",
      "----------------------------------------------------------------------------------------\n",
      "0  | loss                               | QuantileLoss                    | 0     \n",
      "1  | logging_metrics                    | ModuleList                      | 0     \n",
      "2  | input_embeddings                   | MultiEmbedding                  | 0     \n",
      "3  | prescalers                         | ModuleDict                      | 576   \n",
      "4  | static_variable_selection          | VariableSelectionNetwork        | 0     \n",
      "5  | encoder_variable_selection         | VariableSelectionNetwork        | 25.6 K\n",
      "6  | decoder_variable_selection         | VariableSelectionNetwork        | 528   \n",
      "7  | static_context_variable_selection  | GatedResidualNetwork            | 1.1 K \n",
      "8  | static_context_initial_hidden_lstm | GatedResidualNetwork            | 1.1 K \n",
      "9  | static_context_initial_cell_lstm   | GatedResidualNetwork            | 1.1 K \n",
      "10 | static_context_enrichment          | GatedResidualNetwork            | 1.1 K \n",
      "11 | lstm_encoder                       | LSTM                            | 4.4 K \n",
      "12 | lstm_decoder                       | LSTM                            | 4.4 K \n",
      "13 | post_lstm_gate_encoder             | GatedLinearUnit                 | 544   \n",
      "14 | post_lstm_add_norm_encoder         | AddNorm                         | 32    \n",
      "15 | static_enrichment                  | GatedResidualNetwork            | 1.4 K \n",
      "16 | multihead_attn                     | InterpretableMultiHeadAttention | 808   \n",
      "17 | post_attn_gate_norm                | GateAddNorm                     | 576   \n",
      "18 | pos_wise_ff                        | GatedResidualNetwork            | 1.1 K \n",
      "19 | pre_output_gate_norm               | GateAddNorm                     | 576   \n",
      "20 | output_layer                       | Linear                          | 17    \n",
      "----------------------------------------------------------------------------------------\n",
      "44.3 K    Trainable params\n",
      "0         Non-trainable params\n",
      "44.3 K    Total params\n",
      "0.177     Total estimated model params size (MB)\n"
     ]
    },
    {
     "data": {
      "application/vnd.jupyter.widget-view+json": {
       "model_id": "4b9043a7f3d24afcafef44885959ddb9",
       "version_major": 2,
       "version_minor": 0
      },
      "text/plain": [
       "Training: 0it [00:00, ?it/s]"
      ]
     },
     "metadata": {},
     "output_type": "display_data"
    },
    {
     "data": {
      "application/vnd.jupyter.widget-view+json": {
       "model_id": "",
       "version_major": 2,
       "version_minor": 0
      },
      "text/plain": [
       "Validating: 0it [00:00, ?it/s]"
      ]
     },
     "metadata": {},
     "output_type": "display_data"
    },
    {
     "name": "stderr",
     "output_type": "stream",
     "text": [
      "GPU available: False, used: False\n",
      "TPU available: False, using: 0 TPU cores\n",
      "\n",
      "   | Name                               | Type                            | Params\n",
      "----------------------------------------------------------------------------------------\n",
      "0  | loss                               | QuantileLoss                    | 0     \n",
      "1  | logging_metrics                    | ModuleList                      | 0     \n",
      "2  | input_embeddings                   | MultiEmbedding                  | 0     \n",
      "3  | prescalers                         | ModuleDict                      | 576   \n",
      "4  | static_variable_selection          | VariableSelectionNetwork        | 0     \n",
      "5  | encoder_variable_selection         | VariableSelectionNetwork        | 25.6 K\n",
      "6  | decoder_variable_selection         | VariableSelectionNetwork        | 528   \n",
      "7  | static_context_variable_selection  | GatedResidualNetwork            | 1.1 K \n",
      "8  | static_context_initial_hidden_lstm | GatedResidualNetwork            | 1.1 K \n",
      "9  | static_context_initial_cell_lstm   | GatedResidualNetwork            | 1.1 K \n",
      "10 | static_context_enrichment          | GatedResidualNetwork            | 1.1 K \n",
      "11 | lstm_encoder                       | LSTM                            | 4.4 K \n",
      "12 | lstm_decoder                       | LSTM                            | 4.4 K \n",
      "13 | post_lstm_gate_encoder             | GatedLinearUnit                 | 544   \n",
      "14 | post_lstm_add_norm_encoder         | AddNorm                         | 32    \n",
      "15 | static_enrichment                  | GatedResidualNetwork            | 1.4 K \n",
      "16 | multihead_attn                     | InterpretableMultiHeadAttention | 808   \n",
      "17 | post_attn_gate_norm                | GateAddNorm                     | 576   \n",
      "18 | pos_wise_ff                        | GatedResidualNetwork            | 1.1 K \n",
      "19 | pre_output_gate_norm               | GateAddNorm                     | 576   \n",
      "20 | output_layer                       | Linear                          | 17    \n",
      "----------------------------------------------------------------------------------------\n",
      "44.3 K    Trainable params\n",
      "0         Non-trainable params\n",
      "44.3 K    Total params\n",
      "0.177     Total estimated model params size (MB)\n"
     ]
    },
    {
     "data": {
      "application/vnd.jupyter.widget-view+json": {
       "model_id": "626ff7ea47d1483094ed426c039b574b",
       "version_major": 2,
       "version_minor": 0
      },
      "text/plain": [
       "Training: 0it [00:00, ?it/s]"
      ]
     },
     "metadata": {},
     "output_type": "display_data"
    },
    {
     "data": {
      "application/vnd.jupyter.widget-view+json": {
       "model_id": "",
       "version_major": 2,
       "version_minor": 0
      },
      "text/plain": [
       "Validating: 0it [00:00, ?it/s]"
      ]
     },
     "metadata": {},
     "output_type": "display_data"
    },
    {
     "name": "stderr",
     "output_type": "stream",
     "text": [
      "GPU available: False, used: False\n",
      "TPU available: False, using: 0 TPU cores\n",
      "\n",
      "   | Name                               | Type                            | Params\n",
      "----------------------------------------------------------------------------------------\n",
      "0  | loss                               | QuantileLoss                    | 0     \n",
      "1  | logging_metrics                    | ModuleList                      | 0     \n",
      "2  | input_embeddings                   | MultiEmbedding                  | 0     \n",
      "3  | prescalers                         | ModuleDict                      | 576   \n",
      "4  | static_variable_selection          | VariableSelectionNetwork        | 0     \n",
      "5  | encoder_variable_selection         | VariableSelectionNetwork        | 25.6 K\n",
      "6  | decoder_variable_selection         | VariableSelectionNetwork        | 528   \n",
      "7  | static_context_variable_selection  | GatedResidualNetwork            | 1.1 K \n",
      "8  | static_context_initial_hidden_lstm | GatedResidualNetwork            | 1.1 K \n",
      "9  | static_context_initial_cell_lstm   | GatedResidualNetwork            | 1.1 K \n",
      "10 | static_context_enrichment          | GatedResidualNetwork            | 1.1 K \n",
      "11 | lstm_encoder                       | LSTM                            | 4.4 K \n",
      "12 | lstm_decoder                       | LSTM                            | 4.4 K \n",
      "13 | post_lstm_gate_encoder             | GatedLinearUnit                 | 544   \n",
      "14 | post_lstm_add_norm_encoder         | AddNorm                         | 32    \n",
      "15 | static_enrichment                  | GatedResidualNetwork            | 1.4 K \n",
      "16 | multihead_attn                     | InterpretableMultiHeadAttention | 808   \n",
      "17 | post_attn_gate_norm                | GateAddNorm                     | 576   \n",
      "18 | pos_wise_ff                        | GatedResidualNetwork            | 1.1 K \n",
      "19 | pre_output_gate_norm               | GateAddNorm                     | 576   \n",
      "20 | output_layer                       | Linear                          | 17    \n",
      "----------------------------------------------------------------------------------------\n",
      "44.3 K    Trainable params\n",
      "0         Non-trainable params\n",
      "44.3 K    Total params\n",
      "0.177     Total estimated model params size (MB)\n"
     ]
    },
    {
     "data": {
      "application/vnd.jupyter.widget-view+json": {
       "model_id": "12533216bd8841caa8eaffc63050f11c",
       "version_major": 2,
       "version_minor": 0
      },
      "text/plain": [
       "Training: 0it [00:00, ?it/s]"
      ]
     },
     "metadata": {},
     "output_type": "display_data"
    },
    {
     "data": {
      "application/vnd.jupyter.widget-view+json": {
       "model_id": "",
       "version_major": 2,
       "version_minor": 0
      },
      "text/plain": [
       "Validating: 0it [00:00, ?it/s]"
      ]
     },
     "metadata": {},
     "output_type": "display_data"
    },
    {
     "name": "stderr",
     "output_type": "stream",
     "text": [
      "GPU available: False, used: False\n",
      "TPU available: False, using: 0 TPU cores\n",
      "\n",
      "   | Name                               | Type                            | Params\n",
      "----------------------------------------------------------------------------------------\n",
      "0  | loss                               | QuantileLoss                    | 0     \n",
      "1  | logging_metrics                    | ModuleList                      | 0     \n",
      "2  | input_embeddings                   | MultiEmbedding                  | 0     \n",
      "3  | prescalers                         | ModuleDict                      | 576   \n",
      "4  | static_variable_selection          | VariableSelectionNetwork        | 0     \n",
      "5  | encoder_variable_selection         | VariableSelectionNetwork        | 25.6 K\n",
      "6  | decoder_variable_selection         | VariableSelectionNetwork        | 528   \n",
      "7  | static_context_variable_selection  | GatedResidualNetwork            | 1.1 K \n",
      "8  | static_context_initial_hidden_lstm | GatedResidualNetwork            | 1.1 K \n",
      "9  | static_context_initial_cell_lstm   | GatedResidualNetwork            | 1.1 K \n",
      "10 | static_context_enrichment          | GatedResidualNetwork            | 1.1 K \n",
      "11 | lstm_encoder                       | LSTM                            | 4.4 K \n",
      "12 | lstm_decoder                       | LSTM                            | 4.4 K \n",
      "13 | post_lstm_gate_encoder             | GatedLinearUnit                 | 544   \n",
      "14 | post_lstm_add_norm_encoder         | AddNorm                         | 32    \n",
      "15 | static_enrichment                  | GatedResidualNetwork            | 1.4 K \n",
      "16 | multihead_attn                     | InterpretableMultiHeadAttention | 808   \n",
      "17 | post_attn_gate_norm                | GateAddNorm                     | 576   \n",
      "18 | pos_wise_ff                        | GatedResidualNetwork            | 1.1 K \n",
      "19 | pre_output_gate_norm               | GateAddNorm                     | 576   \n",
      "20 | output_layer                       | Linear                          | 17    \n",
      "----------------------------------------------------------------------------------------\n",
      "44.3 K    Trainable params\n",
      "0         Non-trainable params\n",
      "44.3 K    Total params\n",
      "0.177     Total estimated model params size (MB)\n"
     ]
    },
    {
     "data": {
      "application/vnd.jupyter.widget-view+json": {
       "model_id": "569f36d67a57430988212f88579c4c76",
       "version_major": 2,
       "version_minor": 0
      },
      "text/plain": [
       "Training: 0it [00:00, ?it/s]"
      ]
     },
     "metadata": {},
     "output_type": "display_data"
    },
    {
     "data": {
      "application/vnd.jupyter.widget-view+json": {
       "model_id": "",
       "version_major": 2,
       "version_minor": 0
      },
      "text/plain": [
       "Validating: 0it [00:00, ?it/s]"
      ]
     },
     "metadata": {},
     "output_type": "display_data"
    },
    {
     "name": "stderr",
     "output_type": "stream",
     "text": [
      "GPU available: False, used: False\n",
      "TPU available: False, using: 0 TPU cores\n",
      "\n",
      "   | Name                               | Type                            | Params\n",
      "----------------------------------------------------------------------------------------\n",
      "0  | loss                               | QuantileLoss                    | 0     \n",
      "1  | logging_metrics                    | ModuleList                      | 0     \n",
      "2  | input_embeddings                   | MultiEmbedding                  | 0     \n",
      "3  | prescalers                         | ModuleDict                      | 576   \n",
      "4  | static_variable_selection          | VariableSelectionNetwork        | 0     \n",
      "5  | encoder_variable_selection         | VariableSelectionNetwork        | 25.6 K\n",
      "6  | decoder_variable_selection         | VariableSelectionNetwork        | 528   \n",
      "7  | static_context_variable_selection  | GatedResidualNetwork            | 1.1 K \n",
      "8  | static_context_initial_hidden_lstm | GatedResidualNetwork            | 1.1 K \n",
      "9  | static_context_initial_cell_lstm   | GatedResidualNetwork            | 1.1 K \n",
      "10 | static_context_enrichment          | GatedResidualNetwork            | 1.1 K \n",
      "11 | lstm_encoder                       | LSTM                            | 4.4 K \n",
      "12 | lstm_decoder                       | LSTM                            | 4.4 K \n",
      "13 | post_lstm_gate_encoder             | GatedLinearUnit                 | 544   \n",
      "14 | post_lstm_add_norm_encoder         | AddNorm                         | 32    \n",
      "15 | static_enrichment                  | GatedResidualNetwork            | 1.4 K \n",
      "16 | multihead_attn                     | InterpretableMultiHeadAttention | 808   \n",
      "17 | post_attn_gate_norm                | GateAddNorm                     | 576   \n",
      "18 | pos_wise_ff                        | GatedResidualNetwork            | 1.1 K \n",
      "19 | pre_output_gate_norm               | GateAddNorm                     | 576   \n",
      "20 | output_layer                       | Linear                          | 17    \n",
      "----------------------------------------------------------------------------------------\n",
      "44.3 K    Trainable params\n",
      "0         Non-trainable params\n",
      "44.3 K    Total params\n",
      "0.177     Total estimated model params size (MB)\n"
     ]
    },
    {
     "data": {
      "application/vnd.jupyter.widget-view+json": {
       "model_id": "aaad220da2e14597a25304ce4305bb38",
       "version_major": 2,
       "version_minor": 0
      },
      "text/plain": [
       "Training: 0it [00:00, ?it/s]"
      ]
     },
     "metadata": {},
     "output_type": "display_data"
    },
    {
     "data": {
      "application/vnd.jupyter.widget-view+json": {
       "model_id": "",
       "version_major": 2,
       "version_minor": 0
      },
      "text/plain": [
       "Validating: 0it [00:00, ?it/s]"
      ]
     },
     "metadata": {},
     "output_type": "display_data"
    },
    {
     "name": "stderr",
     "output_type": "stream",
     "text": [
      "GPU available: False, used: False\n",
      "TPU available: False, using: 0 TPU cores\n",
      "\n",
      "   | Name                               | Type                            | Params\n",
      "----------------------------------------------------------------------------------------\n",
      "0  | loss                               | QuantileLoss                    | 0     \n",
      "1  | logging_metrics                    | ModuleList                      | 0     \n",
      "2  | input_embeddings                   | MultiEmbedding                  | 0     \n",
      "3  | prescalers                         | ModuleDict                      | 576   \n",
      "4  | static_variable_selection          | VariableSelectionNetwork        | 0     \n",
      "5  | encoder_variable_selection         | VariableSelectionNetwork        | 25.6 K\n",
      "6  | decoder_variable_selection         | VariableSelectionNetwork        | 528   \n",
      "7  | static_context_variable_selection  | GatedResidualNetwork            | 1.1 K \n",
      "8  | static_context_initial_hidden_lstm | GatedResidualNetwork            | 1.1 K \n",
      "9  | static_context_initial_cell_lstm   | GatedResidualNetwork            | 1.1 K \n",
      "10 | static_context_enrichment          | GatedResidualNetwork            | 1.1 K \n",
      "11 | lstm_encoder                       | LSTM                            | 4.4 K \n",
      "12 | lstm_decoder                       | LSTM                            | 4.4 K \n",
      "13 | post_lstm_gate_encoder             | GatedLinearUnit                 | 544   \n",
      "14 | post_lstm_add_norm_encoder         | AddNorm                         | 32    \n",
      "15 | static_enrichment                  | GatedResidualNetwork            | 1.4 K \n",
      "16 | multihead_attn                     | InterpretableMultiHeadAttention | 808   \n",
      "17 | post_attn_gate_norm                | GateAddNorm                     | 576   \n",
      "18 | pos_wise_ff                        | GatedResidualNetwork            | 1.1 K \n",
      "19 | pre_output_gate_norm               | GateAddNorm                     | 576   \n",
      "20 | output_layer                       | Linear                          | 17    \n",
      "----------------------------------------------------------------------------------------\n",
      "44.3 K    Trainable params\n",
      "0         Non-trainable params\n",
      "44.3 K    Total params\n",
      "0.177     Total estimated model params size (MB)\n"
     ]
    },
    {
     "data": {
      "application/vnd.jupyter.widget-view+json": {
       "model_id": "be8d4a224e96415d90b7281373eb590c",
       "version_major": 2,
       "version_minor": 0
      },
      "text/plain": [
       "Training: 0it [00:00, ?it/s]"
      ]
     },
     "metadata": {},
     "output_type": "display_data"
    },
    {
     "data": {
      "application/vnd.jupyter.widget-view+json": {
       "model_id": "",
       "version_major": 2,
       "version_minor": 0
      },
      "text/plain": [
       "Validating: 0it [00:00, ?it/s]"
      ]
     },
     "metadata": {},
     "output_type": "display_data"
    },
    {
     "name": "stderr",
     "output_type": "stream",
     "text": [
      "GPU available: False, used: False\n",
      "TPU available: False, using: 0 TPU cores\n",
      "\n",
      "   | Name                               | Type                            | Params\n",
      "----------------------------------------------------------------------------------------\n",
      "0  | loss                               | QuantileLoss                    | 0     \n",
      "1  | logging_metrics                    | ModuleList                      | 0     \n",
      "2  | input_embeddings                   | MultiEmbedding                  | 0     \n",
      "3  | prescalers                         | ModuleDict                      | 576   \n",
      "4  | static_variable_selection          | VariableSelectionNetwork        | 0     \n",
      "5  | encoder_variable_selection         | VariableSelectionNetwork        | 25.6 K\n",
      "6  | decoder_variable_selection         | VariableSelectionNetwork        | 528   \n",
      "7  | static_context_variable_selection  | GatedResidualNetwork            | 1.1 K \n",
      "8  | static_context_initial_hidden_lstm | GatedResidualNetwork            | 1.1 K \n",
      "9  | static_context_initial_cell_lstm   | GatedResidualNetwork            | 1.1 K \n",
      "10 | static_context_enrichment          | GatedResidualNetwork            | 1.1 K \n",
      "11 | lstm_encoder                       | LSTM                            | 4.4 K \n",
      "12 | lstm_decoder                       | LSTM                            | 4.4 K \n",
      "13 | post_lstm_gate_encoder             | GatedLinearUnit                 | 544   \n",
      "14 | post_lstm_add_norm_encoder         | AddNorm                         | 32    \n",
      "15 | static_enrichment                  | GatedResidualNetwork            | 1.4 K \n",
      "16 | multihead_attn                     | InterpretableMultiHeadAttention | 808   \n",
      "17 | post_attn_gate_norm                | GateAddNorm                     | 576   \n",
      "18 | pos_wise_ff                        | GatedResidualNetwork            | 1.1 K \n",
      "19 | pre_output_gate_norm               | GateAddNorm                     | 576   \n",
      "20 | output_layer                       | Linear                          | 17    \n",
      "----------------------------------------------------------------------------------------\n",
      "44.3 K    Trainable params\n",
      "0         Non-trainable params\n",
      "44.3 K    Total params\n",
      "0.177     Total estimated model params size (MB)\n"
     ]
    },
    {
     "data": {
      "application/vnd.jupyter.widget-view+json": {
       "model_id": "1be55d1c97864c2d97de5ce5ef3c9239",
       "version_major": 2,
       "version_minor": 0
      },
      "text/plain": [
       "Training: 0it [00:00, ?it/s]"
      ]
     },
     "metadata": {},
     "output_type": "display_data"
    },
    {
     "data": {
      "application/vnd.jupyter.widget-view+json": {
       "model_id": "",
       "version_major": 2,
       "version_minor": 0
      },
      "text/plain": [
       "Validating: 0it [00:00, ?it/s]"
      ]
     },
     "metadata": {},
     "output_type": "display_data"
    },
    {
     "name": "stderr",
     "output_type": "stream",
     "text": [
      "GPU available: False, used: False\n",
      "TPU available: False, using: 0 TPU cores\n",
      "\n",
      "   | Name                               | Type                            | Params\n",
      "----------------------------------------------------------------------------------------\n",
      "0  | loss                               | QuantileLoss                    | 0     \n",
      "1  | logging_metrics                    | ModuleList                      | 0     \n",
      "2  | input_embeddings                   | MultiEmbedding                  | 0     \n",
      "3  | prescalers                         | ModuleDict                      | 576   \n",
      "4  | static_variable_selection          | VariableSelectionNetwork        | 0     \n",
      "5  | encoder_variable_selection         | VariableSelectionNetwork        | 25.6 K\n",
      "6  | decoder_variable_selection         | VariableSelectionNetwork        | 528   \n",
      "7  | static_context_variable_selection  | GatedResidualNetwork            | 1.1 K \n",
      "8  | static_context_initial_hidden_lstm | GatedResidualNetwork            | 1.1 K \n",
      "9  | static_context_initial_cell_lstm   | GatedResidualNetwork            | 1.1 K \n",
      "10 | static_context_enrichment          | GatedResidualNetwork            | 1.1 K \n",
      "11 | lstm_encoder                       | LSTM                            | 4.4 K \n",
      "12 | lstm_decoder                       | LSTM                            | 4.4 K \n",
      "13 | post_lstm_gate_encoder             | GatedLinearUnit                 | 544   \n",
      "14 | post_lstm_add_norm_encoder         | AddNorm                         | 32    \n",
      "15 | static_enrichment                  | GatedResidualNetwork            | 1.4 K \n",
      "16 | multihead_attn                     | InterpretableMultiHeadAttention | 808   \n",
      "17 | post_attn_gate_norm                | GateAddNorm                     | 576   \n",
      "18 | pos_wise_ff                        | GatedResidualNetwork            | 1.1 K \n",
      "19 | pre_output_gate_norm               | GateAddNorm                     | 576   \n",
      "20 | output_layer                       | Linear                          | 17    \n",
      "----------------------------------------------------------------------------------------\n",
      "44.3 K    Trainable params\n",
      "0         Non-trainable params\n",
      "44.3 K    Total params\n",
      "0.177     Total estimated model params size (MB)\n"
     ]
    },
    {
     "data": {
      "application/vnd.jupyter.widget-view+json": {
       "model_id": "6e892d5aca924f2c90055c6cc9309bbd",
       "version_major": 2,
       "version_minor": 0
      },
      "text/plain": [
       "Training: 0it [00:00, ?it/s]"
      ]
     },
     "metadata": {},
     "output_type": "display_data"
    },
    {
     "data": {
      "application/vnd.jupyter.widget-view+json": {
       "model_id": "",
       "version_major": 2,
       "version_minor": 0
      },
      "text/plain": [
       "Validating: 0it [00:00, ?it/s]"
      ]
     },
     "metadata": {},
     "output_type": "display_data"
    },
    {
     "name": "stderr",
     "output_type": "stream",
     "text": [
      "GPU available: False, used: False\n",
      "TPU available: False, using: 0 TPU cores\n",
      "\n",
      "   | Name                               | Type                            | Params\n",
      "----------------------------------------------------------------------------------------\n",
      "0  | loss                               | QuantileLoss                    | 0     \n",
      "1  | logging_metrics                    | ModuleList                      | 0     \n",
      "2  | input_embeddings                   | MultiEmbedding                  | 0     \n",
      "3  | prescalers                         | ModuleDict                      | 576   \n",
      "4  | static_variable_selection          | VariableSelectionNetwork        | 0     \n",
      "5  | encoder_variable_selection         | VariableSelectionNetwork        | 25.6 K\n",
      "6  | decoder_variable_selection         | VariableSelectionNetwork        | 528   \n",
      "7  | static_context_variable_selection  | GatedResidualNetwork            | 1.1 K \n",
      "8  | static_context_initial_hidden_lstm | GatedResidualNetwork            | 1.1 K \n",
      "9  | static_context_initial_cell_lstm   | GatedResidualNetwork            | 1.1 K \n",
      "10 | static_context_enrichment          | GatedResidualNetwork            | 1.1 K \n",
      "11 | lstm_encoder                       | LSTM                            | 4.4 K \n",
      "12 | lstm_decoder                       | LSTM                            | 4.4 K \n",
      "13 | post_lstm_gate_encoder             | GatedLinearUnit                 | 544   \n",
      "14 | post_lstm_add_norm_encoder         | AddNorm                         | 32    \n",
      "15 | static_enrichment                  | GatedResidualNetwork            | 1.4 K \n",
      "16 | multihead_attn                     | InterpretableMultiHeadAttention | 808   \n",
      "17 | post_attn_gate_norm                | GateAddNorm                     | 576   \n",
      "18 | pos_wise_ff                        | GatedResidualNetwork            | 1.1 K \n",
      "19 | pre_output_gate_norm               | GateAddNorm                     | 576   \n",
      "20 | output_layer                       | Linear                          | 17    \n",
      "----------------------------------------------------------------------------------------\n",
      "44.3 K    Trainable params\n",
      "0         Non-trainable params\n",
      "44.3 K    Total params\n",
      "0.177     Total estimated model params size (MB)\n"
     ]
    },
    {
     "data": {
      "application/vnd.jupyter.widget-view+json": {
       "model_id": "b4b905428adf4ba29afdfa712474c14d",
       "version_major": 2,
       "version_minor": 0
      },
      "text/plain": [
       "Training: 0it [00:00, ?it/s]"
      ]
     },
     "metadata": {},
     "output_type": "display_data"
    },
    {
     "data": {
      "application/vnd.jupyter.widget-view+json": {
       "model_id": "",
       "version_major": 2,
       "version_minor": 0
      },
      "text/plain": [
       "Validating: 0it [00:00, ?it/s]"
      ]
     },
     "metadata": {},
     "output_type": "display_data"
    },
    {
     "name": "stderr",
     "output_type": "stream",
     "text": [
      "GPU available: False, used: False\n",
      "TPU available: False, using: 0 TPU cores\n",
      "\n",
      "   | Name                               | Type                            | Params\n",
      "----------------------------------------------------------------------------------------\n",
      "0  | loss                               | QuantileLoss                    | 0     \n",
      "1  | logging_metrics                    | ModuleList                      | 0     \n",
      "2  | input_embeddings                   | MultiEmbedding                  | 0     \n",
      "3  | prescalers                         | ModuleDict                      | 576   \n",
      "4  | static_variable_selection          | VariableSelectionNetwork        | 0     \n",
      "5  | encoder_variable_selection         | VariableSelectionNetwork        | 25.6 K\n",
      "6  | decoder_variable_selection         | VariableSelectionNetwork        | 528   \n",
      "7  | static_context_variable_selection  | GatedResidualNetwork            | 1.1 K \n",
      "8  | static_context_initial_hidden_lstm | GatedResidualNetwork            | 1.1 K \n",
      "9  | static_context_initial_cell_lstm   | GatedResidualNetwork            | 1.1 K \n",
      "10 | static_context_enrichment          | GatedResidualNetwork            | 1.1 K \n",
      "11 | lstm_encoder                       | LSTM                            | 4.4 K \n",
      "12 | lstm_decoder                       | LSTM                            | 4.4 K \n",
      "13 | post_lstm_gate_encoder             | GatedLinearUnit                 | 544   \n",
      "14 | post_lstm_add_norm_encoder         | AddNorm                         | 32    \n",
      "15 | static_enrichment                  | GatedResidualNetwork            | 1.4 K \n",
      "16 | multihead_attn                     | InterpretableMultiHeadAttention | 808   \n",
      "17 | post_attn_gate_norm                | GateAddNorm                     | 576   \n",
      "18 | pos_wise_ff                        | GatedResidualNetwork            | 1.1 K \n",
      "19 | pre_output_gate_norm               | GateAddNorm                     | 576   \n",
      "20 | output_layer                       | Linear                          | 17    \n",
      "----------------------------------------------------------------------------------------\n",
      "44.3 K    Trainable params\n",
      "0         Non-trainable params\n",
      "44.3 K    Total params\n",
      "0.177     Total estimated model params size (MB)\n"
     ]
    },
    {
     "data": {
      "application/vnd.jupyter.widget-view+json": {
       "model_id": "d84ce51d222a4cf3b50252a9375d3c49",
       "version_major": 2,
       "version_minor": 0
      },
      "text/plain": [
       "Training: 0it [00:00, ?it/s]"
      ]
     },
     "metadata": {},
     "output_type": "display_data"
    },
    {
     "data": {
      "application/vnd.jupyter.widget-view+json": {
       "model_id": "",
       "version_major": 2,
       "version_minor": 0
      },
      "text/plain": [
       "Validating: 0it [00:00, ?it/s]"
      ]
     },
     "metadata": {},
     "output_type": "display_data"
    },
    {
     "name": "stderr",
     "output_type": "stream",
     "text": [
      "GPU available: False, used: False\n",
      "TPU available: False, using: 0 TPU cores\n",
      "\n",
      "   | Name                               | Type                            | Params\n",
      "----------------------------------------------------------------------------------------\n",
      "0  | loss                               | QuantileLoss                    | 0     \n",
      "1  | logging_metrics                    | ModuleList                      | 0     \n",
      "2  | input_embeddings                   | MultiEmbedding                  | 0     \n",
      "3  | prescalers                         | ModuleDict                      | 576   \n",
      "4  | static_variable_selection          | VariableSelectionNetwork        | 0     \n",
      "5  | encoder_variable_selection         | VariableSelectionNetwork        | 25.6 K\n",
      "6  | decoder_variable_selection         | VariableSelectionNetwork        | 528   \n",
      "7  | static_context_variable_selection  | GatedResidualNetwork            | 1.1 K \n",
      "8  | static_context_initial_hidden_lstm | GatedResidualNetwork            | 1.1 K \n",
      "9  | static_context_initial_cell_lstm   | GatedResidualNetwork            | 1.1 K \n",
      "10 | static_context_enrichment          | GatedResidualNetwork            | 1.1 K \n",
      "11 | lstm_encoder                       | LSTM                            | 4.4 K \n",
      "12 | lstm_decoder                       | LSTM                            | 4.4 K \n",
      "13 | post_lstm_gate_encoder             | GatedLinearUnit                 | 544   \n",
      "14 | post_lstm_add_norm_encoder         | AddNorm                         | 32    \n",
      "15 | static_enrichment                  | GatedResidualNetwork            | 1.4 K \n",
      "16 | multihead_attn                     | InterpretableMultiHeadAttention | 808   \n",
      "17 | post_attn_gate_norm                | GateAddNorm                     | 576   \n",
      "18 | pos_wise_ff                        | GatedResidualNetwork            | 1.1 K \n",
      "19 | pre_output_gate_norm               | GateAddNorm                     | 576   \n",
      "20 | output_layer                       | Linear                          | 17    \n",
      "----------------------------------------------------------------------------------------\n",
      "44.3 K    Trainable params\n",
      "0         Non-trainable params\n",
      "44.3 K    Total params\n",
      "0.177     Total estimated model params size (MB)\n"
     ]
    },
    {
     "data": {
      "application/vnd.jupyter.widget-view+json": {
       "model_id": "afcdd5a24c884b0893181e1a4854e4bb",
       "version_major": 2,
       "version_minor": 0
      },
      "text/plain": [
       "Training: 0it [00:00, ?it/s]"
      ]
     },
     "metadata": {},
     "output_type": "display_data"
    },
    {
     "data": {
      "application/vnd.jupyter.widget-view+json": {
       "model_id": "",
       "version_major": 2,
       "version_minor": 0
      },
      "text/plain": [
       "Validating: 0it [00:00, ?it/s]"
      ]
     },
     "metadata": {},
     "output_type": "display_data"
    },
    {
     "name": "stderr",
     "output_type": "stream",
     "text": [
      "GPU available: False, used: False\n",
      "TPU available: False, using: 0 TPU cores\n",
      "\n",
      "   | Name                               | Type                            | Params\n",
      "----------------------------------------------------------------------------------------\n",
      "0  | loss                               | QuantileLoss                    | 0     \n",
      "1  | logging_metrics                    | ModuleList                      | 0     \n",
      "2  | input_embeddings                   | MultiEmbedding                  | 0     \n",
      "3  | prescalers                         | ModuleDict                      | 576   \n",
      "4  | static_variable_selection          | VariableSelectionNetwork        | 0     \n",
      "5  | encoder_variable_selection         | VariableSelectionNetwork        | 25.6 K\n",
      "6  | decoder_variable_selection         | VariableSelectionNetwork        | 528   \n",
      "7  | static_context_variable_selection  | GatedResidualNetwork            | 1.1 K \n",
      "8  | static_context_initial_hidden_lstm | GatedResidualNetwork            | 1.1 K \n",
      "9  | static_context_initial_cell_lstm   | GatedResidualNetwork            | 1.1 K \n",
      "10 | static_context_enrichment          | GatedResidualNetwork            | 1.1 K \n",
      "11 | lstm_encoder                       | LSTM                            | 4.4 K \n",
      "12 | lstm_decoder                       | LSTM                            | 4.4 K \n",
      "13 | post_lstm_gate_encoder             | GatedLinearUnit                 | 544   \n",
      "14 | post_lstm_add_norm_encoder         | AddNorm                         | 32    \n",
      "15 | static_enrichment                  | GatedResidualNetwork            | 1.4 K \n",
      "16 | multihead_attn                     | InterpretableMultiHeadAttention | 808   \n",
      "17 | post_attn_gate_norm                | GateAddNorm                     | 576   \n",
      "18 | pos_wise_ff                        | GatedResidualNetwork            | 1.1 K \n",
      "19 | pre_output_gate_norm               | GateAddNorm                     | 576   \n",
      "20 | output_layer                       | Linear                          | 17    \n",
      "----------------------------------------------------------------------------------------\n",
      "44.3 K    Trainable params\n",
      "0         Non-trainable params\n",
      "44.3 K    Total params\n",
      "0.177     Total estimated model params size (MB)\n"
     ]
    },
    {
     "data": {
      "application/vnd.jupyter.widget-view+json": {
       "model_id": "1a69847d21af4cb89d9765a947011b91",
       "version_major": 2,
       "version_minor": 0
      },
      "text/plain": [
       "Training: 0it [00:00, ?it/s]"
      ]
     },
     "metadata": {},
     "output_type": "display_data"
    },
    {
     "data": {
      "application/vnd.jupyter.widget-view+json": {
       "model_id": "",
       "version_major": 2,
       "version_minor": 0
      },
      "text/plain": [
       "Validating: 0it [00:00, ?it/s]"
      ]
     },
     "metadata": {},
     "output_type": "display_data"
    },
    {
     "name": "stderr",
     "output_type": "stream",
     "text": [
      "GPU available: False, used: False\n",
      "TPU available: False, using: 0 TPU cores\n",
      "\n",
      "   | Name                               | Type                            | Params\n",
      "----------------------------------------------------------------------------------------\n",
      "0  | loss                               | QuantileLoss                    | 0     \n",
      "1  | logging_metrics                    | ModuleList                      | 0     \n",
      "2  | input_embeddings                   | MultiEmbedding                  | 0     \n",
      "3  | prescalers                         | ModuleDict                      | 576   \n",
      "4  | static_variable_selection          | VariableSelectionNetwork        | 0     \n",
      "5  | encoder_variable_selection         | VariableSelectionNetwork        | 25.6 K\n",
      "6  | decoder_variable_selection         | VariableSelectionNetwork        | 528   \n",
      "7  | static_context_variable_selection  | GatedResidualNetwork            | 1.1 K \n",
      "8  | static_context_initial_hidden_lstm | GatedResidualNetwork            | 1.1 K \n",
      "9  | static_context_initial_cell_lstm   | GatedResidualNetwork            | 1.1 K \n",
      "10 | static_context_enrichment          | GatedResidualNetwork            | 1.1 K \n",
      "11 | lstm_encoder                       | LSTM                            | 4.4 K \n",
      "12 | lstm_decoder                       | LSTM                            | 4.4 K \n",
      "13 | post_lstm_gate_encoder             | GatedLinearUnit                 | 544   \n",
      "14 | post_lstm_add_norm_encoder         | AddNorm                         | 32    \n",
      "15 | static_enrichment                  | GatedResidualNetwork            | 1.4 K \n",
      "16 | multihead_attn                     | InterpretableMultiHeadAttention | 808   \n",
      "17 | post_attn_gate_norm                | GateAddNorm                     | 576   \n",
      "18 | pos_wise_ff                        | GatedResidualNetwork            | 1.1 K \n",
      "19 | pre_output_gate_norm               | GateAddNorm                     | 576   \n",
      "20 | output_layer                       | Linear                          | 17    \n",
      "----------------------------------------------------------------------------------------\n",
      "44.3 K    Trainable params\n",
      "0         Non-trainable params\n",
      "44.3 K    Total params\n",
      "0.177     Total estimated model params size (MB)\n"
     ]
    },
    {
     "data": {
      "application/vnd.jupyter.widget-view+json": {
       "model_id": "33a8077a316144d2afe61fa17393ff09",
       "version_major": 2,
       "version_minor": 0
      },
      "text/plain": [
       "Training: 0it [00:00, ?it/s]"
      ]
     },
     "metadata": {},
     "output_type": "display_data"
    },
    {
     "data": {
      "application/vnd.jupyter.widget-view+json": {
       "model_id": "",
       "version_major": 2,
       "version_minor": 0
      },
      "text/plain": [
       "Validating: 0it [00:00, ?it/s]"
      ]
     },
     "metadata": {},
     "output_type": "display_data"
    },
    {
     "name": "stderr",
     "output_type": "stream",
     "text": [
      "GPU available: False, used: False\n",
      "TPU available: False, using: 0 TPU cores\n",
      "\n",
      "   | Name                               | Type                            | Params\n",
      "----------------------------------------------------------------------------------------\n",
      "0  | loss                               | QuantileLoss                    | 0     \n",
      "1  | logging_metrics                    | ModuleList                      | 0     \n",
      "2  | input_embeddings                   | MultiEmbedding                  | 0     \n",
      "3  | prescalers                         | ModuleDict                      | 576   \n",
      "4  | static_variable_selection          | VariableSelectionNetwork        | 0     \n",
      "5  | encoder_variable_selection         | VariableSelectionNetwork        | 25.6 K\n",
      "6  | decoder_variable_selection         | VariableSelectionNetwork        | 528   \n",
      "7  | static_context_variable_selection  | GatedResidualNetwork            | 1.1 K \n",
      "8  | static_context_initial_hidden_lstm | GatedResidualNetwork            | 1.1 K \n",
      "9  | static_context_initial_cell_lstm   | GatedResidualNetwork            | 1.1 K \n",
      "10 | static_context_enrichment          | GatedResidualNetwork            | 1.1 K \n",
      "11 | lstm_encoder                       | LSTM                            | 4.4 K \n",
      "12 | lstm_decoder                       | LSTM                            | 4.4 K \n",
      "13 | post_lstm_gate_encoder             | GatedLinearUnit                 | 544   \n",
      "14 | post_lstm_add_norm_encoder         | AddNorm                         | 32    \n",
      "15 | static_enrichment                  | GatedResidualNetwork            | 1.4 K \n",
      "16 | multihead_attn                     | InterpretableMultiHeadAttention | 808   \n",
      "17 | post_attn_gate_norm                | GateAddNorm                     | 576   \n",
      "18 | pos_wise_ff                        | GatedResidualNetwork            | 1.1 K \n",
      "19 | pre_output_gate_norm               | GateAddNorm                     | 576   \n",
      "20 | output_layer                       | Linear                          | 17    \n",
      "----------------------------------------------------------------------------------------\n",
      "44.3 K    Trainable params\n",
      "0         Non-trainable params\n",
      "44.3 K    Total params\n",
      "0.177     Total estimated model params size (MB)\n"
     ]
    },
    {
     "data": {
      "application/vnd.jupyter.widget-view+json": {
       "model_id": "5e40cc1ff3714b15892502c92c17d2e7",
       "version_major": 2,
       "version_minor": 0
      },
      "text/plain": [
       "Training: 0it [00:00, ?it/s]"
      ]
     },
     "metadata": {},
     "output_type": "display_data"
    },
    {
     "data": {
      "application/vnd.jupyter.widget-view+json": {
       "model_id": "",
       "version_major": 2,
       "version_minor": 0
      },
      "text/plain": [
       "Validating: 0it [00:00, ?it/s]"
      ]
     },
     "metadata": {},
     "output_type": "display_data"
    },
    {
     "name": "stderr",
     "output_type": "stream",
     "text": [
      "GPU available: False, used: False\n",
      "TPU available: False, using: 0 TPU cores\n",
      "\n",
      "   | Name                               | Type                            | Params\n",
      "----------------------------------------------------------------------------------------\n",
      "0  | loss                               | QuantileLoss                    | 0     \n",
      "1  | logging_metrics                    | ModuleList                      | 0     \n",
      "2  | input_embeddings                   | MultiEmbedding                  | 0     \n",
      "3  | prescalers                         | ModuleDict                      | 576   \n",
      "4  | static_variable_selection          | VariableSelectionNetwork        | 0     \n",
      "5  | encoder_variable_selection         | VariableSelectionNetwork        | 25.6 K\n",
      "6  | decoder_variable_selection         | VariableSelectionNetwork        | 528   \n",
      "7  | static_context_variable_selection  | GatedResidualNetwork            | 1.1 K \n",
      "8  | static_context_initial_hidden_lstm | GatedResidualNetwork            | 1.1 K \n",
      "9  | static_context_initial_cell_lstm   | GatedResidualNetwork            | 1.1 K \n",
      "10 | static_context_enrichment          | GatedResidualNetwork            | 1.1 K \n",
      "11 | lstm_encoder                       | LSTM                            | 4.4 K \n",
      "12 | lstm_decoder                       | LSTM                            | 4.4 K \n",
      "13 | post_lstm_gate_encoder             | GatedLinearUnit                 | 544   \n",
      "14 | post_lstm_add_norm_encoder         | AddNorm                         | 32    \n",
      "15 | static_enrichment                  | GatedResidualNetwork            | 1.4 K \n",
      "16 | multihead_attn                     | InterpretableMultiHeadAttention | 808   \n",
      "17 | post_attn_gate_norm                | GateAddNorm                     | 576   \n",
      "18 | pos_wise_ff                        | GatedResidualNetwork            | 1.1 K \n",
      "19 | pre_output_gate_norm               | GateAddNorm                     | 576   \n",
      "20 | output_layer                       | Linear                          | 17    \n",
      "----------------------------------------------------------------------------------------\n",
      "44.3 K    Trainable params\n",
      "0         Non-trainable params\n",
      "44.3 K    Total params\n",
      "0.177     Total estimated model params size (MB)\n"
     ]
    },
    {
     "data": {
      "application/vnd.jupyter.widget-view+json": {
       "model_id": "cc205f0405c7442a9f66500df3a5a709",
       "version_major": 2,
       "version_minor": 0
      },
      "text/plain": [
       "Training: 0it [00:00, ?it/s]"
      ]
     },
     "metadata": {},
     "output_type": "display_data"
    },
    {
     "data": {
      "application/vnd.jupyter.widget-view+json": {
       "model_id": "",
       "version_major": 2,
       "version_minor": 0
      },
      "text/plain": [
       "Validating: 0it [00:00, ?it/s]"
      ]
     },
     "metadata": {},
     "output_type": "display_data"
    },
    {
     "name": "stderr",
     "output_type": "stream",
     "text": [
      "GPU available: False, used: False\n",
      "TPU available: False, using: 0 TPU cores\n",
      "\n",
      "   | Name                               | Type                            | Params\n",
      "----------------------------------------------------------------------------------------\n",
      "0  | loss                               | QuantileLoss                    | 0     \n",
      "1  | logging_metrics                    | ModuleList                      | 0     \n",
      "2  | input_embeddings                   | MultiEmbedding                  | 0     \n",
      "3  | prescalers                         | ModuleDict                      | 576   \n",
      "4  | static_variable_selection          | VariableSelectionNetwork        | 0     \n",
      "5  | encoder_variable_selection         | VariableSelectionNetwork        | 25.6 K\n",
      "6  | decoder_variable_selection         | VariableSelectionNetwork        | 528   \n",
      "7  | static_context_variable_selection  | GatedResidualNetwork            | 1.1 K \n",
      "8  | static_context_initial_hidden_lstm | GatedResidualNetwork            | 1.1 K \n",
      "9  | static_context_initial_cell_lstm   | GatedResidualNetwork            | 1.1 K \n",
      "10 | static_context_enrichment          | GatedResidualNetwork            | 1.1 K \n",
      "11 | lstm_encoder                       | LSTM                            | 4.4 K \n",
      "12 | lstm_decoder                       | LSTM                            | 4.4 K \n",
      "13 | post_lstm_gate_encoder             | GatedLinearUnit                 | 544   \n",
      "14 | post_lstm_add_norm_encoder         | AddNorm                         | 32    \n",
      "15 | static_enrichment                  | GatedResidualNetwork            | 1.4 K \n",
      "16 | multihead_attn                     | InterpretableMultiHeadAttention | 808   \n",
      "17 | post_attn_gate_norm                | GateAddNorm                     | 576   \n",
      "18 | pos_wise_ff                        | GatedResidualNetwork            | 1.1 K \n",
      "19 | pre_output_gate_norm               | GateAddNorm                     | 576   \n",
      "20 | output_layer                       | Linear                          | 17    \n",
      "----------------------------------------------------------------------------------------\n",
      "44.3 K    Trainable params\n",
      "0         Non-trainable params\n",
      "44.3 K    Total params\n",
      "0.177     Total estimated model params size (MB)\n"
     ]
    },
    {
     "data": {
      "application/vnd.jupyter.widget-view+json": {
       "model_id": "f724915a658d4fcebff3e83525a27bf1",
       "version_major": 2,
       "version_minor": 0
      },
      "text/plain": [
       "Training: 0it [00:00, ?it/s]"
      ]
     },
     "metadata": {},
     "output_type": "display_data"
    },
    {
     "data": {
      "application/vnd.jupyter.widget-view+json": {
       "model_id": "",
       "version_major": 2,
       "version_minor": 0
      },
      "text/plain": [
       "Validating: 0it [00:00, ?it/s]"
      ]
     },
     "metadata": {},
     "output_type": "display_data"
    },
    {
     "name": "stderr",
     "output_type": "stream",
     "text": [
      "GPU available: False, used: False\n",
      "TPU available: False, using: 0 TPU cores\n",
      "\n",
      "   | Name                               | Type                            | Params\n",
      "----------------------------------------------------------------------------------------\n",
      "0  | loss                               | QuantileLoss                    | 0     \n",
      "1  | logging_metrics                    | ModuleList                      | 0     \n",
      "2  | input_embeddings                   | MultiEmbedding                  | 0     \n",
      "3  | prescalers                         | ModuleDict                      | 576   \n",
      "4  | static_variable_selection          | VariableSelectionNetwork        | 0     \n",
      "5  | encoder_variable_selection         | VariableSelectionNetwork        | 25.6 K\n",
      "6  | decoder_variable_selection         | VariableSelectionNetwork        | 528   \n",
      "7  | static_context_variable_selection  | GatedResidualNetwork            | 1.1 K \n",
      "8  | static_context_initial_hidden_lstm | GatedResidualNetwork            | 1.1 K \n",
      "9  | static_context_initial_cell_lstm   | GatedResidualNetwork            | 1.1 K \n",
      "10 | static_context_enrichment          | GatedResidualNetwork            | 1.1 K \n",
      "11 | lstm_encoder                       | LSTM                            | 4.4 K \n",
      "12 | lstm_decoder                       | LSTM                            | 4.4 K \n",
      "13 | post_lstm_gate_encoder             | GatedLinearUnit                 | 544   \n",
      "14 | post_lstm_add_norm_encoder         | AddNorm                         | 32    \n",
      "15 | static_enrichment                  | GatedResidualNetwork            | 1.4 K \n",
      "16 | multihead_attn                     | InterpretableMultiHeadAttention | 808   \n",
      "17 | post_attn_gate_norm                | GateAddNorm                     | 576   \n",
      "18 | pos_wise_ff                        | GatedResidualNetwork            | 1.1 K \n",
      "19 | pre_output_gate_norm               | GateAddNorm                     | 576   \n",
      "20 | output_layer                       | Linear                          | 17    \n",
      "----------------------------------------------------------------------------------------\n",
      "44.3 K    Trainable params\n",
      "0         Non-trainable params\n",
      "44.3 K    Total params\n",
      "0.177     Total estimated model params size (MB)\n"
     ]
    },
    {
     "data": {
      "application/vnd.jupyter.widget-view+json": {
       "model_id": "11a39b0e275d4540af4caf25f7bafc2e",
       "version_major": 2,
       "version_minor": 0
      },
      "text/plain": [
       "Training: 0it [00:00, ?it/s]"
      ]
     },
     "metadata": {},
     "output_type": "display_data"
    },
    {
     "data": {
      "application/vnd.jupyter.widget-view+json": {
       "model_id": "",
       "version_major": 2,
       "version_minor": 0
      },
      "text/plain": [
       "Validating: 0it [00:00, ?it/s]"
      ]
     },
     "metadata": {},
     "output_type": "display_data"
    }
   ],
   "source": [
    "## train the model\n",
    "\n",
    "# input: return table, the stock return we want to predict, reference data, training data percentage, look-back period.\n",
    "# for example, I want to predict the retrun of MGC hear, use all the return data available in the return table\n",
    "# take 90% of data as trainging dataset, latter 10% of data as validation dataset\n",
    "\n",
    "ticker_models = {}\n",
    "ticker_prediction = {}\n",
    "for ticker in normalized_table.columns:\n",
    "    tsmodel = TimeSeriesPredictionModel(normalized_table, ticker, list(normalized_table.columns), 0.9 , 25)\n",
    "    tsmodel.trainModel(1, 4)\n",
    "    pred = tsmodel.predict()\n",
    "    ticker_models[ticker] = tsmodel \n",
    "    ticker_prediction[ticker] = pred"
   ]
  },
  {
   "cell_type": "code",
   "execution_count": 47,
   "metadata": {
    "id": "xErPd9gKTuMy",
    "scrolled": true
   },
   "outputs": [
    {
     "data": {
      "text/html": [
       "<div>\n",
       "<style scoped>\n",
       "    .dataframe tbody tr th:only-of-type {\n",
       "        vertical-align: middle;\n",
       "    }\n",
       "\n",
       "    .dataframe tbody tr th {\n",
       "        vertical-align: top;\n",
       "    }\n",
       "\n",
       "    .dataframe thead th {\n",
       "        text-align: right;\n",
       "    }\n",
       "</style>\n",
       "<table border=\"1\" class=\"dataframe\">\n",
       "  <thead>\n",
       "    <tr style=\"text-align: right;\">\n",
       "      <th></th>\n",
       "      <th>MGC</th>\n",
       "      <th>MGK</th>\n",
       "      <th>MGV</th>\n",
       "      <th>MTUM</th>\n",
       "      <th>QQQ</th>\n",
       "      <th>SDY</th>\n",
       "      <th>SPLV</th>\n",
       "      <th>VB</th>\n",
       "      <th>VBK</th>\n",
       "      <th>VBR</th>\n",
       "      <th>...</th>\n",
       "      <th>VUG</th>\n",
       "      <th>VV</th>\n",
       "      <th>VYM</th>\n",
       "      <th>XBI</th>\n",
       "      <th>XLB</th>\n",
       "      <th>XLC</th>\n",
       "      <th>XLI</th>\n",
       "      <th>XLK</th>\n",
       "      <th>XLV</th>\n",
       "      <th>XME</th>\n",
       "    </tr>\n",
       "    <tr>\n",
       "      <th>index</th>\n",
       "      <th></th>\n",
       "      <th></th>\n",
       "      <th></th>\n",
       "      <th></th>\n",
       "      <th></th>\n",
       "      <th></th>\n",
       "      <th></th>\n",
       "      <th></th>\n",
       "      <th></th>\n",
       "      <th></th>\n",
       "      <th></th>\n",
       "      <th></th>\n",
       "      <th></th>\n",
       "      <th></th>\n",
       "      <th></th>\n",
       "      <th></th>\n",
       "      <th></th>\n",
       "      <th></th>\n",
       "      <th></th>\n",
       "      <th></th>\n",
       "      <th></th>\n",
       "    </tr>\n",
       "  </thead>\n",
       "  <tbody>\n",
       "    <tr>\n",
       "      <th>2020-06-25</th>\n",
       "      <td>0.000856</td>\n",
       "      <td>-0.009310</td>\n",
       "      <td>-0.006284</td>\n",
       "      <td>0.003628</td>\n",
       "      <td>0.000270</td>\n",
       "      <td>0.000895</td>\n",
       "      <td>-0.008865</td>\n",
       "      <td>0.000833</td>\n",
       "      <td>-0.009346</td>\n",
       "      <td>-0.000532</td>\n",
       "      <td>...</td>\n",
       "      <td>0.009908</td>\n",
       "      <td>-0.000568</td>\n",
       "      <td>-0.006539</td>\n",
       "      <td>0.004950</td>\n",
       "      <td>-0.006312</td>\n",
       "      <td>0.000127</td>\n",
       "      <td>0.003023</td>\n",
       "      <td>-0.004129</td>\n",
       "      <td>-0.004153</td>\n",
       "      <td>0.005199</td>\n",
       "    </tr>\n",
       "    <tr>\n",
       "      <th>2020-06-26</th>\n",
       "      <td>-0.001778</td>\n",
       "      <td>-0.008130</td>\n",
       "      <td>-0.003987</td>\n",
       "      <td>0.009271</td>\n",
       "      <td>-0.000114</td>\n",
       "      <td>0.005376</td>\n",
       "      <td>-0.011250</td>\n",
       "      <td>-0.000977</td>\n",
       "      <td>-0.000810</td>\n",
       "      <td>0.000998</td>\n",
       "      <td>...</td>\n",
       "      <td>0.011910</td>\n",
       "      <td>-0.004081</td>\n",
       "      <td>-0.005186</td>\n",
       "      <td>0.000307</td>\n",
       "      <td>-0.002221</td>\n",
       "      <td>-0.001499</td>\n",
       "      <td>0.006694</td>\n",
       "      <td>-0.003203</td>\n",
       "      <td>-0.002957</td>\n",
       "      <td>0.006268</td>\n",
       "    </tr>\n",
       "    <tr>\n",
       "      <th>2020-06-29</th>\n",
       "      <td>-0.002812</td>\n",
       "      <td>-0.001662</td>\n",
       "      <td>-0.010146</td>\n",
       "      <td>0.000138</td>\n",
       "      <td>0.000880</td>\n",
       "      <td>0.004700</td>\n",
       "      <td>-0.007005</td>\n",
       "      <td>-0.004617</td>\n",
       "      <td>-0.013294</td>\n",
       "      <td>-0.000756</td>\n",
       "      <td>...</td>\n",
       "      <td>0.003241</td>\n",
       "      <td>-0.004096</td>\n",
       "      <td>-0.008306</td>\n",
       "      <td>0.000745</td>\n",
       "      <td>-0.013933</td>\n",
       "      <td>-0.000163</td>\n",
       "      <td>0.005974</td>\n",
       "      <td>-0.002467</td>\n",
       "      <td>-0.011271</td>\n",
       "      <td>0.005127</td>\n",
       "    </tr>\n",
       "    <tr>\n",
       "      <th>2020-06-30</th>\n",
       "      <td>-0.002512</td>\n",
       "      <td>-0.008015</td>\n",
       "      <td>-0.008961</td>\n",
       "      <td>0.003307</td>\n",
       "      <td>-0.004162</td>\n",
       "      <td>0.004530</td>\n",
       "      <td>-0.011288</td>\n",
       "      <td>0.002361</td>\n",
       "      <td>-0.003974</td>\n",
       "      <td>-0.004726</td>\n",
       "      <td>...</td>\n",
       "      <td>0.009798</td>\n",
       "      <td>-0.003751</td>\n",
       "      <td>-0.006481</td>\n",
       "      <td>0.000561</td>\n",
       "      <td>-0.008526</td>\n",
       "      <td>-0.002142</td>\n",
       "      <td>0.002079</td>\n",
       "      <td>-0.000775</td>\n",
       "      <td>-0.010873</td>\n",
       "      <td>0.002164</td>\n",
       "    </tr>\n",
       "    <tr>\n",
       "      <th>2020-07-01</th>\n",
       "      <td>0.006809</td>\n",
       "      <td>0.000129</td>\n",
       "      <td>-0.005559</td>\n",
       "      <td>-0.002175</td>\n",
       "      <td>-0.000883</td>\n",
       "      <td>0.006967</td>\n",
       "      <td>-0.009667</td>\n",
       "      <td>-0.001943</td>\n",
       "      <td>-0.012710</td>\n",
       "      <td>-0.002717</td>\n",
       "      <td>...</td>\n",
       "      <td>0.008861</td>\n",
       "      <td>0.000954</td>\n",
       "      <td>-0.006437</td>\n",
       "      <td>-0.002852</td>\n",
       "      <td>-0.004039</td>\n",
       "      <td>-0.001100</td>\n",
       "      <td>-0.001498</td>\n",
       "      <td>0.000165</td>\n",
       "      <td>-0.004460</td>\n",
       "      <td>0.006740</td>\n",
       "    </tr>\n",
       "    <tr>\n",
       "      <th>...</th>\n",
       "      <td>...</td>\n",
       "      <td>...</td>\n",
       "      <td>...</td>\n",
       "      <td>...</td>\n",
       "      <td>...</td>\n",
       "      <td>...</td>\n",
       "      <td>...</td>\n",
       "      <td>...</td>\n",
       "      <td>...</td>\n",
       "      <td>...</td>\n",
       "      <td>...</td>\n",
       "      <td>...</td>\n",
       "      <td>...</td>\n",
       "      <td>...</td>\n",
       "      <td>...</td>\n",
       "      <td>...</td>\n",
       "      <td>...</td>\n",
       "      <td>...</td>\n",
       "      <td>...</td>\n",
       "      <td>...</td>\n",
       "      <td>...</td>\n",
       "    </tr>\n",
       "    <tr>\n",
       "      <th>2021-05-14</th>\n",
       "      <td>-0.009517</td>\n",
       "      <td>-0.006189</td>\n",
       "      <td>-0.012445</td>\n",
       "      <td>-0.010716</td>\n",
       "      <td>-0.001037</td>\n",
       "      <td>0.002298</td>\n",
       "      <td>-0.002194</td>\n",
       "      <td>-0.000898</td>\n",
       "      <td>-0.005536</td>\n",
       "      <td>-0.003173</td>\n",
       "      <td>...</td>\n",
       "      <td>0.010783</td>\n",
       "      <td>-0.004209</td>\n",
       "      <td>-0.006504</td>\n",
       "      <td>-0.003212</td>\n",
       "      <td>-0.004006</td>\n",
       "      <td>0.006548</td>\n",
       "      <td>0.000540</td>\n",
       "      <td>0.007758</td>\n",
       "      <td>0.000958</td>\n",
       "      <td>-0.011646</td>\n",
       "    </tr>\n",
       "    <tr>\n",
       "      <th>2021-05-17</th>\n",
       "      <td>-0.009388</td>\n",
       "      <td>-0.008159</td>\n",
       "      <td>-0.013902</td>\n",
       "      <td>-0.009625</td>\n",
       "      <td>0.001594</td>\n",
       "      <td>-0.002316</td>\n",
       "      <td>-0.001743</td>\n",
       "      <td>0.001016</td>\n",
       "      <td>0.006634</td>\n",
       "      <td>-0.008765</td>\n",
       "      <td>...</td>\n",
       "      <td>0.008101</td>\n",
       "      <td>0.004621</td>\n",
       "      <td>-0.003095</td>\n",
       "      <td>-0.008591</td>\n",
       "      <td>-0.004417</td>\n",
       "      <td>0.015344</td>\n",
       "      <td>-0.000578</td>\n",
       "      <td>0.006084</td>\n",
       "      <td>0.001691</td>\n",
       "      <td>-0.011207</td>\n",
       "    </tr>\n",
       "    <tr>\n",
       "      <th>2021-05-18</th>\n",
       "      <td>-0.012864</td>\n",
       "      <td>-0.009536</td>\n",
       "      <td>-0.013682</td>\n",
       "      <td>-0.011535</td>\n",
       "      <td>-0.002622</td>\n",
       "      <td>-0.009693</td>\n",
       "      <td>-0.000971</td>\n",
       "      <td>0.000647</td>\n",
       "      <td>-0.001858</td>\n",
       "      <td>-0.005807</td>\n",
       "      <td>...</td>\n",
       "      <td>0.010927</td>\n",
       "      <td>0.000225</td>\n",
       "      <td>-0.004797</td>\n",
       "      <td>-0.013143</td>\n",
       "      <td>0.005745</td>\n",
       "      <td>0.009544</td>\n",
       "      <td>-0.002432</td>\n",
       "      <td>0.004554</td>\n",
       "      <td>0.004658</td>\n",
       "      <td>-0.004678</td>\n",
       "    </tr>\n",
       "    <tr>\n",
       "      <th>2021-05-19</th>\n",
       "      <td>-0.009140</td>\n",
       "      <td>-0.006014</td>\n",
       "      <td>-0.005004</td>\n",
       "      <td>-0.008008</td>\n",
       "      <td>0.001411</td>\n",
       "      <td>-0.003939</td>\n",
       "      <td>-0.000473</td>\n",
       "      <td>-0.007388</td>\n",
       "      <td>0.008287</td>\n",
       "      <td>-0.004353</td>\n",
       "      <td>...</td>\n",
       "      <td>0.010977</td>\n",
       "      <td>-0.002874</td>\n",
       "      <td>-0.005128</td>\n",
       "      <td>-0.013326</td>\n",
       "      <td>-0.003734</td>\n",
       "      <td>0.014260</td>\n",
       "      <td>-0.000460</td>\n",
       "      <td>0.010163</td>\n",
       "      <td>0.001651</td>\n",
       "      <td>-0.011662</td>\n",
       "    </tr>\n",
       "    <tr>\n",
       "      <th>2021-05-20</th>\n",
       "      <td>-0.008319</td>\n",
       "      <td>-0.008493</td>\n",
       "      <td>-0.007909</td>\n",
       "      <td>-0.011792</td>\n",
       "      <td>-0.003350</td>\n",
       "      <td>-0.000582</td>\n",
       "      <td>-0.003575</td>\n",
       "      <td>-0.004033</td>\n",
       "      <td>0.010558</td>\n",
       "      <td>-0.008706</td>\n",
       "      <td>...</td>\n",
       "      <td>0.010850</td>\n",
       "      <td>-0.002174</td>\n",
       "      <td>-0.001506</td>\n",
       "      <td>0.006421</td>\n",
       "      <td>-0.003837</td>\n",
       "      <td>0.010898</td>\n",
       "      <td>-0.001109</td>\n",
       "      <td>0.010041</td>\n",
       "      <td>0.001070</td>\n",
       "      <td>-0.012311</td>\n",
       "    </tr>\n",
       "  </tbody>\n",
       "</table>\n",
       "<p>228 rows × 35 columns</p>\n",
       "</div>"
      ],
      "text/plain": [
       "                 MGC       MGK       MGV      MTUM       QQQ       SDY  \\\n",
       "index                                                                    \n",
       "2020-06-25  0.000856 -0.009310 -0.006284  0.003628  0.000270  0.000895   \n",
       "2020-06-26 -0.001778 -0.008130 -0.003987  0.009271 -0.000114  0.005376   \n",
       "2020-06-29 -0.002812 -0.001662 -0.010146  0.000138  0.000880  0.004700   \n",
       "2020-06-30 -0.002512 -0.008015 -0.008961  0.003307 -0.004162  0.004530   \n",
       "2020-07-01  0.006809  0.000129 -0.005559 -0.002175 -0.000883  0.006967   \n",
       "...              ...       ...       ...       ...       ...       ...   \n",
       "2021-05-14 -0.009517 -0.006189 -0.012445 -0.010716 -0.001037  0.002298   \n",
       "2021-05-17 -0.009388 -0.008159 -0.013902 -0.009625  0.001594 -0.002316   \n",
       "2021-05-18 -0.012864 -0.009536 -0.013682 -0.011535 -0.002622 -0.009693   \n",
       "2021-05-19 -0.009140 -0.006014 -0.005004 -0.008008  0.001411 -0.003939   \n",
       "2021-05-20 -0.008319 -0.008493 -0.007909 -0.011792 -0.003350 -0.000582   \n",
       "\n",
       "                SPLV        VB       VBK       VBR  ...       VUG        VV  \\\n",
       "index                                               ...                       \n",
       "2020-06-25 -0.008865  0.000833 -0.009346 -0.000532  ...  0.009908 -0.000568   \n",
       "2020-06-26 -0.011250 -0.000977 -0.000810  0.000998  ...  0.011910 -0.004081   \n",
       "2020-06-29 -0.007005 -0.004617 -0.013294 -0.000756  ...  0.003241 -0.004096   \n",
       "2020-06-30 -0.011288  0.002361 -0.003974 -0.004726  ...  0.009798 -0.003751   \n",
       "2020-07-01 -0.009667 -0.001943 -0.012710 -0.002717  ...  0.008861  0.000954   \n",
       "...              ...       ...       ...       ...  ...       ...       ...   \n",
       "2021-05-14 -0.002194 -0.000898 -0.005536 -0.003173  ...  0.010783 -0.004209   \n",
       "2021-05-17 -0.001743  0.001016  0.006634 -0.008765  ...  0.008101  0.004621   \n",
       "2021-05-18 -0.000971  0.000647 -0.001858 -0.005807  ...  0.010927  0.000225   \n",
       "2021-05-19 -0.000473 -0.007388  0.008287 -0.004353  ...  0.010977 -0.002874   \n",
       "2021-05-20 -0.003575 -0.004033  0.010558 -0.008706  ...  0.010850 -0.002174   \n",
       "\n",
       "                 VYM       XBI       XLB       XLC       XLI       XLK  \\\n",
       "index                                                                    \n",
       "2020-06-25 -0.006539  0.004950 -0.006312  0.000127  0.003023 -0.004129   \n",
       "2020-06-26 -0.005186  0.000307 -0.002221 -0.001499  0.006694 -0.003203   \n",
       "2020-06-29 -0.008306  0.000745 -0.013933 -0.000163  0.005974 -0.002467   \n",
       "2020-06-30 -0.006481  0.000561 -0.008526 -0.002142  0.002079 -0.000775   \n",
       "2020-07-01 -0.006437 -0.002852 -0.004039 -0.001100 -0.001498  0.000165   \n",
       "...              ...       ...       ...       ...       ...       ...   \n",
       "2021-05-14 -0.006504 -0.003212 -0.004006  0.006548  0.000540  0.007758   \n",
       "2021-05-17 -0.003095 -0.008591 -0.004417  0.015344 -0.000578  0.006084   \n",
       "2021-05-18 -0.004797 -0.013143  0.005745  0.009544 -0.002432  0.004554   \n",
       "2021-05-19 -0.005128 -0.013326 -0.003734  0.014260 -0.000460  0.010163   \n",
       "2021-05-20 -0.001506  0.006421 -0.003837  0.010898 -0.001109  0.010041   \n",
       "\n",
       "                 XLV       XME  \n",
       "index                           \n",
       "2020-06-25 -0.004153  0.005199  \n",
       "2020-06-26 -0.002957  0.006268  \n",
       "2020-06-29 -0.011271  0.005127  \n",
       "2020-06-30 -0.010873  0.002164  \n",
       "2020-07-01 -0.004460  0.006740  \n",
       "...              ...       ...  \n",
       "2021-05-14  0.000958 -0.011646  \n",
       "2021-05-17  0.001691 -0.011207  \n",
       "2021-05-18  0.004658 -0.004678  \n",
       "2021-05-19  0.001651 -0.011662  \n",
       "2021-05-20  0.001070 -0.012311  \n",
       "\n",
       "[228 rows x 35 columns]"
      ]
     },
     "execution_count": 47,
     "metadata": {},
     "output_type": "execute_result"
    }
   ],
   "source": [
    "# construct the predict return table\n",
    "\n",
    "results = pd.DataFrame()\n",
    "results['index'] = ticker_prediction[\"MGC\"].date # store the datetime index out\n",
    "for ticker in normalized_table.columns:\n",
    "    results[ticker] = ticker_prediction[ticker]['return']\n",
    "\n",
    "results = results.set_index('index')\n",
    "TFT_prediction_return_table = results*return_table.std()+return_table.mean()\n",
    "TFT_prediction_return_table"
   ]
  },
  {
   "cell_type": "markdown",
   "metadata": {
    "id": "GLhiYGuUTuMy"
   },
   "source": [
    "# Momemtum Filter"
   ]
  },
  {
   "cell_type": "code",
   "execution_count": 41,
   "metadata": {
    "id": "RxwMaWr8TuMz"
   },
   "outputs": [],
   "source": [
    "def momemtum_ranking_table(df, t, n):\n",
    "    # lookback period = t weeks\n",
    "    # select top n stock\n",
    "    \n",
    "    # create a ranking table (smaller the ranking, higher the return)\n",
    "    ranking = resample_risk_adjusted_retrun_table(df, t).shift(1).rank(axis=1, na_option='keep', ascending = False)\n",
    "    original_rank = list(range (1, len(df.columns)+1))\n",
    "    replace_rank = [1]*n + [0]*(len(df.columns)-n)\n",
    "\n",
    "    ranking_matrix = ranking.replace(original_rank, replace_rank)# replace_rank\n",
    "    return ranking_matrix\n",
    "\n",
    "def cumulative_return(return_vals):\n",
    "    cumulative_return_list = (np.array(return_vals)+1).cumprod() -1\n",
    "    \n",
    "    return cumulative_return_list[-1]\n",
    "\n",
    "def resample_retrun_table(df, t):\n",
    "    # df is the daily return table\n",
    "    # t is the number of week we want to resample into\n",
    "    df = df.fillna(0)\n",
    "    df = df.resample(\"W-Fri\").apply(lambda x : cumulative_return(x)) # turn the dataframe into weekly \n",
    "    index = df.index # store the weekly datetime index\n",
    "    df = df.reset_index().drop(columns=['index'])\n",
    "\n",
    "    rolling_return = (1 + df).rolling(window = t).apply(np.prod, raw = True) - 1\n",
    "    rolling_return = rolling_return.set_index([index])\n",
    "    return rolling_return.iloc[::-1].iloc[::t, :].iloc[::-1] # turn the table upside dowm, then select every t-th row, the turn around the table again \n",
    "\n",
    "def resample_risk_adjusted_retrun_table(df, t):\n",
    "    # for ranking propose, we need risk adjusted return\n",
    "    df = df.fillna(0)\n",
    "    idx = pd.date_range(df.index[0], df.index[-1])\n",
    "    \n",
    "    risk = df.reindex(idx, fill_value=0).rolling(window=t*5).std()\n",
    "    df = df.resample(\"W-Fri\").apply(lambda x : cumulative_return(x))# turn the dataframe into weekly\n",
    "    index = df.index # store the weekly datetime index\n",
    "    df = df.reset_index().drop(columns=['index'])\n",
    "    \n",
    "    rolling_return = (1 + df).rolling(window = t).apply(np.prod, raw = True) - 1\n",
    "    rolling_return = rolling_return.set_index([index])\n",
    "    resample_return_table = rolling_return.iloc[::-1].iloc[::t, :].iloc[::-1]\n",
    "    multrisk = resample_return_table.mul(1/risk).dropna(how='all') # multiply element-wise \n",
    "    # using ,mul instead of np.multiply, and you can multiply 2 dataframe with different dimension\n",
    "    return multrisk\n",
    "\n",
    "def portfolio_retrun_table(df, t, n):\n",
    "    return momemtum_ranking_table(df, t, n).mul(resample_retrun_table(df, t)).sum(1)*(1/n) # equal weighted here\n",
    "\n",
    "def momemtum_ranking_table_for_predict_return(df, t, n):\n",
    "    \n",
    "    ranking = resample_risk_adjusted_retrun_table(df, t).rank(axis=1, na_option='keep', ascending = False)\n",
    "    original_rank = list(range (1, len(df.columns)+1))\n",
    "    replace_rank = [1]*n + [0]*(len(df.columns)-n)\n",
    "\n",
    "    ranking_matrix = ranking.replace(original_rank, replace_rank)# replace_rank\n",
    "    return ranking_matrix\n",
    "    \n",
    "def portfolio_retrun_table_for_prediction(original_df, predict_df, t, n):\n",
    "    return momemtum_ranking_table_for_predict_return(predict_df, t, n).mul(resample_retrun_table(original_df, t)).sum(1)*(1/n) # equal weighted here\n",
    "    \n",
    "def plot_maximum_drawdown(df, t, n):\n",
    "    wealth_index=(1+portfolio_retrun_table(df,t,n)).cumprod()\n",
    "    plt.plot(wealth_index)\n",
    "    previous_peaks = pd.Series(wealth_index).cummax()\n",
    "    previous_peaks.plot()"
   ]
  },
  {
   "cell_type": "code",
   "execution_count": 46,
   "metadata": {
    "colab": {
     "base_uri": "https://localhost:8080/",
     "height": 318
    },
    "id": "2nK83oIjTuMz",
    "outputId": "56df054a-b6f2-4360-fc92-fbf139fe6e0f"
   },
   "outputs": [
    {
     "data": {
      "text/plain": [
       "<matplotlib.legend.Legend at 0x7f883fce7c50>"
      ]
     },
     "execution_count": 46,
     "metadata": {},
     "output_type": "execute_result"
    },
    {
     "data": {
      "image/png": "[encoded data removed]",
      "text/plain": [
       "<Figure size 432x288 with 1 Axes>"
      ]
     },
     "metadata": {},
     "output_type": "display_data"
    }
   ],
   "source": [
    "# Backtesting\n",
    "\n",
    "fig, ax = plt.subplots()\n",
    "ax.set_title('Cumulative Return')\n",
    "\n",
    "ax.set(xlabel='Time', ylabel='Return')\n",
    "ax.grid(True, which='both')\n",
    "seaborn.despine(ax=ax, offset=0) # the important part here\n",
    "\n",
    "\n",
    "df = return_table\n",
    "for t in [1]:\n",
    "    for n in [2,3]:\n",
    "            \n",
    "        # '2011-06-03' need manuualy input when you select the differnet timeframe\n",
    "        data = (1+ portfolio_retrun_table(df, t, n).loc[portfolio_retrun_table(df, t, n).index > '2020-06-05']).cumprod()-1\n",
    "\n",
    "        ax.plot(data, label = 'lookback:' + str(t) + \", top \" + str(n) + \", Momentum\")\n",
    "        ax.legend()\n",
    "\n",
    "        \n",
    "predict_df = LSTM_prediction_return_table\n",
    "original_df = return_table\n",
    "for t in [1]:\n",
    "    for n in [2,3]:\n",
    "            \n",
    "        # '2011-06-03' need manuualy input when you select the differnet timeframe\n",
    "        data = (1+ portfolio_retrun_table_for_prediction(original_df, predict_df, t, n).loc[portfolio_retrun_table_for_prediction(original_df, predict_df, t, n).index > '2020-06-05']).cumprod()-1\n",
    "\n",
    "        ax.plot(data, label = 'lookback:' + str(t) + \", top \" + str(n) + \", LSTM\")\n",
    "        ax.legend()\n",
    "\n",
    "        \n",
    "# Add benchmark\n",
    "\n",
    "df_extract = get_historical_data('SPY', start_date).loc[:, ['symbol', 'fClose', 'changePercent']]\n",
    "benchmark_return = pd.to_numeric(df_extract.changePercent)\n",
    "\n",
    "benchmark_data = (1+benchmark_return.loc[benchmark_return.index > '2020-06-05']).cumprod()-1\n",
    "ax.plot(benchmark_data, label = 'benchmark')\n",
    "ax.legend()"
   ]
  },
  {
   "cell_type": "code",
   "execution_count": 51,
   "metadata": {},
   "outputs": [
    {
     "data": {
      "text/plain": [
       "<matplotlib.legend.Legend at 0x7f883f306dd0>"
      ]
     },
     "execution_count": 51,
     "metadata": {},
     "output_type": "execute_result"
    },
    {
     "data": {
      "image/png": "[encoded data removed]",
      "text/plain": [
       "<Figure size 432x288 with 1 Axes>"
      ]
     },
     "metadata": {},
     "output_type": "display_data"
    }
   ],
   "source": [
    "fig, ax = plt.subplots()\n",
    "ax.set_title('Cumulative Return')\n",
    "\n",
    "ax.set(xlabel='Time', ylabel='Return')\n",
    "ax.grid(True, which='both')\n",
    "seaborn.despine(ax=ax, offset=0) # the important part here\n",
    "\n",
    "\n",
    "df = return_table\n",
    "for t in [1]:\n",
    "    for n in [2,3]:\n",
    "            \n",
    "        # '2011-06-03' need manuualy input when you select the differnet timeframe\n",
    "        data = (1+ portfolio_retrun_table(df, t, n).loc[portfolio_retrun_table(df, t, n).index > '2020-06-05']).cumprod()-1\n",
    "\n",
    "        ax.plot(data, label = 'lookback:' + str(t) + \", top \" + str(n) + \", Momentum\")\n",
    "        ax.legend()\n",
    "\n",
    "        \n",
    "predict_df = LSTM_prediction_return_table\n",
    "original_df = return_table\n",
    "for t in [1]:\n",
    "    for n in [2,3]:\n",
    "            \n",
    "        # '2011-06-03' need manuualy input when you select the differnet timeframe\n",
    "        data = (1+ portfolio_retrun_table_for_prediction(original_df, predict_df, t, n).loc[portfolio_retrun_table_for_prediction(original_df, predict_df, t, n).index > '2020-06-05']).cumprod()-1\n",
    "\n",
    "        ax.plot(data, label = 'lookback:' + str(t) + \", top \" + str(n) + \", LSTM\")\n",
    "        ax.legend()\n",
    "        \n",
    "        \n",
    "predict_df = TFT_prediction_return_table\n",
    "original_df = return_table\n",
    "for t in [1]:\n",
    "    for n in [2,3]:\n",
    "            \n",
    "        # '2011-06-03' need manuualy input when you select the differnet timeframe\n",
    "        data = (1+ portfolio_retrun_table_for_prediction(original_df, predict_df, t, n).loc[portfolio_retrun_table_for_prediction(original_df, predict_df, t, n).index > '2020-06-05']).cumprod()-1\n",
    "\n",
    "        ax.plot(data, label = 'lookback:' + str(t) + \", top \" + str(n) + \", Transformer\")\n",
    "        ax.legend()\n",
    "\n",
    "        \n",
    "# Add benchmark\n",
    "\n",
    "df_extract = get_historical_data('SPY', start_date).loc[:, ['symbol', 'fClose', 'changePercent']]\n",
    "benchmark_return = pd.to_numeric(df_extract.changePercent)\n",
    "\n",
    "benchmark_data = (1+benchmark_return.loc[benchmark_return.index > '2020-06-05']).cumprod()-1\n",
    "ax.plot(benchmark_data, label = 'benchmark')\n",
    "ax.legend()"
   ]
  }
 ],
 "metadata": {
  "accelerator": "GPU",
  "colab": {
   "collapsed_sections": [],
   "name": "TFT Model Forecasting with Momentum Backtest.ipynb",
   "provenance": [],
   "toc_visible": true
  },
  "kernelspec": {
   "display_name": "Python 3",
   "language": "python",
   "name": "python3"
  },
  "language_info": {
   "codemirror_mode": {
    "name": "ipython",
    "version": 3
   },
   "file_extension": ".py",
   "mimetype": "text/x-python",
   "name": "python",
   "nbconvert_exporter": "python",
   "pygments_lexer": "ipython3",
   "version": "3.7.6"
  }
 },
 "nbformat": 4,
 "nbformat_minor": 1
}
